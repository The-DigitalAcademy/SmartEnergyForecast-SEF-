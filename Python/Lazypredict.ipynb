{
  "nbformat": 4,
  "nbformat_minor": 0,
  "metadata": {
    "colab": {
      "provenance": []
    },
    "kernelspec": {
      "name": "python3",
      "display_name": "Python 3"
    },
    "language_info": {
      "name": "python"
    },
    "accelerator": "GPU",
    "gpuClass": "standard"
  },
  "cells": [
    {
      "cell_type": "code",
      "execution_count": 1,
      "metadata": {
        "id": "gm67itaaCl0b"
      },
      "outputs": [],
      "source": [
        "import numpy as np\n",
        "import pandas as pd\n",
        "import matplotlib.pyplot as plt\n",
        "import seaborn as sns\n",
        "%matplotlib inline"
      ]
    },
    {
      "cell_type": "code",
      "source": [
        "df_eskom = pd.read_csv(\"/content/myupdateddata.csv\")"
      ],
      "metadata": {
        "id": "nRbCbZMdCtsL"
      },
      "execution_count": 2,
      "outputs": []
    },
    {
      "cell_type": "code",
      "source": [
        "newd_eskom=df_eskom.drop(['Date Time Hour Beginning'],axis=1)"
      ],
      "metadata": {
        "id": "HTDzOsk8C0Z1"
      },
      "execution_count": 3,
      "outputs": []
    },
    {
      "cell_type": "code",
      "source": [
        "X = newd_eskom.drop('Residual Demand', axis=1)\n",
        "y = newd_eskom['Residual Demand']"
      ],
      "metadata": {
        "id": "qKurZu9BC09g"
      },
      "execution_count": 4,
      "outputs": []
    },
    {
      "cell_type": "code",
      "source": [
        "from sklearn.ensemble import RandomForestRegressor\n",
        "from sklearn.model_selection import train_test_split\n",
        "from sklearn.preprocessing import StandardScaler\n",
        "from sklearn.model_selection import train_test_split\n",
        "from sklearn.preprocessing import StandardScaler"
      ],
      "metadata": {
        "id": "qoCQWU-DDE7y"
      },
      "execution_count": 5,
      "outputs": []
    },
    {
      "cell_type": "code",
      "source": [
        "# Scale train and test sets with StandardScaler\n",
        "X_train_std = StandardScaler().fit_transform(X)"
      ],
      "metadata": {
        "id": "b5DbsECUC_Iv"
      },
      "execution_count": 6,
      "outputs": []
    },
    {
      "cell_type": "code",
      "source": [
        "y = y.values.reshape(-1, 1)\n"
      ],
      "metadata": {
        "id": "yXGYPU55KZhc"
      },
      "execution_count": 7,
      "outputs": []
    },
    {
      "cell_type": "code",
      "source": [
        "X_train, X_test, y_train, y_test = train_test_split(X_train_std, y, test_size=0.1, random_state=42)\n"
      ],
      "metadata": {
        "id": "1pRV48uPDBlw"
      },
      "execution_count": 8,
      "outputs": []
    },
    {
      "cell_type": "code",
      "source": [],
      "metadata": {
        "id": "iZ3S-ovmHF9h"
      },
      "execution_count": 8,
      "outputs": []
    },
    {
      "cell_type": "code",
      "source": [
        "pip install lazypredict\n"
      ],
      "metadata": {
        "colab": {
          "base_uri": "https://localhost:8080/"
        },
        "id": "h_93yTtGHQd9",
        "outputId": "82c6aaf9-9326-4539-8cc9-834abdca9f76"
      },
      "execution_count": 9,
      "outputs": [
        {
          "output_type": "stream",
          "name": "stdout",
          "text": [
            "Looking in indexes: https://pypi.org/simple, https://us-python.pkg.dev/colab-wheels/public/simple/\n",
            "Requirement already satisfied: lazypredict in /usr/local/lib/python3.9/dist-packages (0.2.12)\n",
            "Requirement already satisfied: lightgbm in /usr/local/lib/python3.9/dist-packages (from lazypredict) (3.3.5)\n",
            "Requirement already satisfied: tqdm in /usr/local/lib/python3.9/dist-packages (from lazypredict) (4.65.0)\n",
            "Requirement already satisfied: scikit-learn in /usr/local/lib/python3.9/dist-packages (from lazypredict) (1.2.2)\n",
            "Requirement already satisfied: pandas in /usr/local/lib/python3.9/dist-packages (from lazypredict) (1.5.3)\n",
            "Requirement already satisfied: click in /usr/local/lib/python3.9/dist-packages (from lazypredict) (8.1.3)\n",
            "Requirement already satisfied: xgboost in /usr/local/lib/python3.9/dist-packages (from lazypredict) (1.7.5)\n",
            "Requirement already satisfied: joblib in /usr/local/lib/python3.9/dist-packages (from lazypredict) (1.2.0)\n",
            "Requirement already satisfied: scipy in /usr/local/lib/python3.9/dist-packages (from lightgbm->lazypredict) (1.10.1)\n",
            "Requirement already satisfied: numpy in /usr/local/lib/python3.9/dist-packages (from lightgbm->lazypredict) (1.22.4)\n",
            "Requirement already satisfied: wheel in /usr/local/lib/python3.9/dist-packages (from lightgbm->lazypredict) (0.40.0)\n",
            "Requirement already satisfied: threadpoolctl>=2.0.0 in /usr/local/lib/python3.9/dist-packages (from scikit-learn->lazypredict) (3.1.0)\n",
            "Requirement already satisfied: pytz>=2020.1 in /usr/local/lib/python3.9/dist-packages (from pandas->lazypredict) (2022.7.1)\n",
            "Requirement already satisfied: python-dateutil>=2.8.1 in /usr/local/lib/python3.9/dist-packages (from pandas->lazypredict) (2.8.2)\n",
            "Requirement already satisfied: six>=1.5 in /usr/local/lib/python3.9/dist-packages (from python-dateutil>=2.8.1->pandas->lazypredict) (1.16.0)\n"
          ]
        }
      ]
    },
    {
      "cell_type": "code",
      "source": [
        "%matplotlib inline\n",
        "import numpy as np\n",
        "import matplotlib.pyplot as plt\n",
        "import pandas as pd\n",
        "import plotly.express as px\n",
        "from IPython.display import display"
      ],
      "metadata": {
        "id": "Gi82YaA6HQaz"
      },
      "execution_count": 10,
      "outputs": []
    },
    {
      "cell_type": "code",
      "source": [
        "import lazypredict\n",
        "from sklearn.model_selection import train_test_split\n",
        "from lazypredict.Supervised import LazyRegressor"
      ],
      "metadata": {
        "id": "zCzqgs-jHQXr"
      },
      "execution_count": 11,
      "outputs": []
    },
    {
      "cell_type": "code",
      "source": [
        "import lazypredict\n",
        "from lazypredict.Supervised import LazyRegressor\n",
        "\n",
        "highmem_regressors = [\n",
        "    \"GammaRegressor\", \"GaussianProcessRegressor\", \"KernelRidge\", \"QuantileRegressor\"\n",
        "]\n",
        "regressors = [reg for reg in lazypredict.Supervised.REGRESSORS if reg[0] not in highmem_regressors]\n",
        "reg = LazyRegressor(regressors=regressors, verbose=1, ignore_warnings=True, custom_metric=None)"
      ],
      "metadata": {
        "id": "Xp2K37rZOxvC"
      },
      "execution_count": 12,
      "outputs": []
    },
    {
      "cell_type": "code",
      "source": [
        "# X = df_cat_to_array .drop([\"sepal_width\"], axis=1)\n",
        "# Y = df_cat_to_array [\"sepal_width\"]\n",
        "# X_train, X_test, y_train, y_test = train_test_split(X, Y, test_size = 0.2, random_state = 64)\n",
        "\n",
        "models,pred = reg.fit(X_train, X_test, y_train, y_test)\n",
        "models"
      ],
      "metadata": {
        "colab": {
          "base_uri": "https://localhost:8080/",
          "height": 1000
        },
        "id": "zcGp49F6HQT_",
        "outputId": "90049298-072c-4912-ca30-dd5fc6168188"
      },
      "execution_count": 13,
      "outputs": [
        {
          "output_type": "stream",
          "name": "stdout",
          "text": [
            "'tuple' object has no attribute '__name__'\n",
            "Invalid Regressor(s)\n"
          ]
        },
        {
          "output_type": "stream",
          "name": "stderr",
          "text": [
            "  3%|▎         | 1/38 [00:18<11:09, 18.10s/it]"
          ]
        },
        {
          "output_type": "stream",
          "name": "stdout",
          "text": [
            "{'Model': 'AdaBoostRegressor', 'R-Squared': 0.9839985397805066, 'Adjusted R-Squared': 0.9838436869396727, 'RMSE': 362.72343631024864, 'Time taken': 18.098915815353394}\n"
          ]
        },
        {
          "output_type": "stream",
          "name": "stderr",
          "text": [
            "\r  5%|▌         | 2/38 [00:29<08:21, 13.93s/it]"
          ]
        },
        {
          "output_type": "stream",
          "name": "stdout",
          "text": [
            "{'Model': 'BaggingRegressor', 'R-Squared': 0.9994959789634555, 'Adjusted R-Squared': 0.9994911013405212, 'RMSE': 64.37542965674905, 'Time taken': 10.999314308166504}\n"
          ]
        },
        {
          "output_type": "stream",
          "name": "stderr",
          "text": [
            "\r  8%|▊         | 3/38 [00:29<04:37,  7.92s/it]"
          ]
        },
        {
          "output_type": "stream",
          "name": "stdout",
          "text": [
            "{'Model': 'BayesianRidge', 'R-Squared': -149.39010113610288, 'Adjusted R-Squared': -150.84548921161357, 'RMSE': 35164.58000972093, 'Time taken': 0.7601826190948486}\n"
          ]
        },
        {
          "output_type": "stream",
          "name": "stderr",
          "text": [
            "\r 11%|█         | 4/38 [00:31<03:08,  5.56s/it]"
          ]
        },
        {
          "output_type": "stream",
          "name": "stdout",
          "text": [
            "{'Model': 'DecisionTreeRegressor', 'R-Squared': 0.9990163331517882, 'Adjusted R-Squared': 0.9990068137951926, 'RMSE': 89.9331543990046, 'Time taken': 1.926027536392212}\n",
            "{'Model': 'DummyRegressor', 'R-Squared': -0.0005024502280615017, 'Adjusted R-Squared': -0.010184732004462127, 'RMSE': 2868.16998949623, 'Time taken': 0.06399917602539062}\n"
          ]
        },
        {
          "output_type": "stream",
          "name": "stderr",
          "text": [
            "\r 16%|█▌        | 6/38 [00:32<01:25,  2.67s/it]"
          ]
        },
        {
          "output_type": "stream",
          "name": "stdout",
          "text": [
            "{'Model': 'ElasticNet', 'R-Squared': 0.9796268658886088, 'Adjusted R-Squared': 0.9794297065262405, 'RMSE': 409.2839659191422, 'Time taken': 0.15253281593322754}\n"
          ]
        },
        {
          "output_type": "stream",
          "name": "stderr",
          "text": [
            "\r 18%|█▊        | 7/38 [00:32<01:05,  2.12s/it]"
          ]
        },
        {
          "output_type": "stream",
          "name": "stdout",
          "text": [
            "{'Model': 'ElasticNetCV', 'R-Squared': 0.868674444353148, 'Adjusted R-Squared': 0.8674035518791462, 'RMSE': 1039.1313144178216, 'Time taken': 0.6855511665344238}\n"
          ]
        },
        {
          "output_type": "stream",
          "name": "stderr",
          "text": [
            "\r 21%|██        | 8/38 [00:33<00:49,  1.65s/it]"
          ]
        },
        {
          "output_type": "stream",
          "name": "stdout",
          "text": [
            "{'Model': 'ExtraTreeRegressor', 'R-Squared': 0.9981114483022062, 'Adjusted R-Squared': 0.9980931719954533, 'RMSE': 124.61210948018464, 'Time taken': 0.44330644607543945}\n"
          ]
        },
        {
          "output_type": "stream",
          "name": "stderr",
          "text": [
            "\r 24%|██▎       | 9/38 [01:06<05:10, 10.71s/it]"
          ]
        },
        {
          "output_type": "stream",
          "name": "stdout",
          "text": [
            "{'Model': 'ExtraTreesRegressor', 'R-Squared': 0.9998451336382552, 'Adjusted R-Squared': 0.9998436349315286, 'RMSE': 35.68406788420035, 'Time taken': 33.21456289291382}\n"
          ]
        },
        {
          "output_type": "stream",
          "name": "stderr",
          "text": [
            "\r 26%|██▋       | 10/38 [01:39<08:00, 17.16s/it]"
          ]
        },
        {
          "output_type": "stream",
          "name": "stdout",
          "text": [
            "{'Model': 'GradientBoostingRegressor', 'R-Squared': 0.9984507831512909, 'Adjusted R-Squared': 0.9984357907301743, 'RMSE': 112.86308441308178, 'Time taken': 32.89843487739563}\n"
          ]
        },
        {
          "output_type": "stream",
          "name": "stderr",
          "text": [
            "\r 29%|██▉       | 11/38 [01:40<05:39, 12.59s/it]"
          ]
        },
        {
          "output_type": "stream",
          "name": "stdout",
          "text": [
            "{'Model': 'HistGradientBoostingRegressor', 'R-Squared': 0.9993977422809113, 'Adjusted R-Squared': 0.999391913980404, 'RMSE': 70.36991016031087, 'Time taken': 1.5848069190979004}\n"
          ]
        },
        {
          "output_type": "stream",
          "name": "stderr",
          "text": [
            "\r 32%|███▏      | 12/38 [01:42<03:59,  9.21s/it]"
          ]
        },
        {
          "output_type": "stream",
          "name": "stdout",
          "text": [
            "{'Model': 'HuberRegressor', 'R-Squared': 0.9999883370256064, 'Adjusted R-Squared': 0.9999882241581123, 'RMSE': 9.792655355186529, 'Time taken': 1.1387879848480225}\n"
          ]
        },
        {
          "output_type": "stream",
          "name": "stderr",
          "text": [
            "\r 34%|███▍      | 13/38 [01:43<02:50,  6.80s/it]"
          ]
        },
        {
          "output_type": "stream",
          "name": "stdout",
          "text": [
            "{'Model': 'KNeighborsRegressor', 'R-Squared': 0.9719435211757664, 'Adjusted R-Squared': 0.9716720068645641, 'RMSE': 480.29978414638555, 'Time taken': 1.0898628234863281}\n",
            "{'Model': 'Lars', 'R-Squared': -0.5906300568338807, 'Adjusted R-Squared': -0.6060232509322732, 'RMSE': 3616.43281580588, 'Time taken': 0.0887293815612793}\n"
          ]
        },
        {
          "output_type": "stream",
          "name": "stderr",
          "text": [
            " 42%|████▏     | 16/38 [01:43<01:03,  2.90s/it]"
          ]
        },
        {
          "output_type": "stream",
          "name": "stdout",
          "text": [
            "{'Model': 'LarsCV', 'R-Squared': 0.999999999999999, 'Adjusted R-Squared': 0.999999999999999, 'RMSE': 8.88388042703318e-05, 'Time taken': 0.40290045738220215}\n",
            "{'Model': 'Lasso', 'R-Squared': 0.9999993879643132, 'Adjusted R-Squared': 0.9999993820413872, 'RMSE': 2.2432836034145924, 'Time taken': 0.17980313301086426}\n"
          ]
        },
        {
          "output_type": "stream",
          "name": "stderr",
          "text": [
            " 47%|████▋     | 18/38 [01:45<00:37,  1.87s/it]"
          ]
        },
        {
          "output_type": "stream",
          "name": "stdout",
          "text": [
            "{'Model': 'LassoCV', 'R-Squared': 0.9999957762837657, 'Adjusted R-Squared': 0.9999957354090925, 'RMSE': 5.8930913809867835, 'Time taken': 1.3343617916107178}\n",
            "{'Model': 'LassoLars', 'R-Squared': 0.9999995504139368, 'Adjusted R-Squared': 0.9999995460631039, 'RMSE': 1.9226588397984041, 'Time taken': 0.17897272109985352}\n"
          ]
        },
        {
          "output_type": "stream",
          "name": "stderr",
          "text": [
            "\r 50%|█████     | 19/38 [01:45<00:28,  1.52s/it]"
          ]
        },
        {
          "output_type": "stream",
          "name": "stdout",
          "text": [
            "{'Model': 'LassoLarsCV', 'R-Squared': 0.999999999999999, 'Adjusted R-Squared': 0.999999999999999, 'RMSE': 8.884401327232378e-05, 'Time taken': 0.6089403629302979}\n"
          ]
        },
        {
          "output_type": "stream",
          "name": "stderr",
          "text": [
            "\r 53%|█████▎    | 20/38 [01:46<00:21,  1.20s/it]"
          ]
        },
        {
          "output_type": "stream",
          "name": "stdout",
          "text": [
            "{'Model': 'LassoLarsIC', 'R-Squared': 0.999999999999999, 'Adjusted R-Squared': 0.999999999999999, 'RMSE': 8.884227453693408e-05, 'Time taken': 0.38280510902404785}\n"
          ]
        },
        {
          "output_type": "stream",
          "name": "stderr",
          "text": [
            "\r 55%|█████▌    | 21/38 [01:46<00:15,  1.09it/s]"
          ]
        },
        {
          "output_type": "stream",
          "name": "stdout",
          "text": [
            "{'Model': 'LinearRegression', 'R-Squared': 1.0, 'Adjusted R-Squared': 1.0, 'RMSE': 1.5104775315578877e-05, 'Time taken': 0.2344198226928711}\n"
          ]
        },
        {
          "output_type": "stream",
          "name": "stderr",
          "text": [
            "\r 58%|█████▊    | 22/38 [01:46<00:11,  1.40it/s]"
          ]
        },
        {
          "output_type": "stream",
          "name": "stdout",
          "text": [
            "{'Model': 'LinearSVR', 'R-Squared': 0.9999999999999988, 'Adjusted R-Squared': 0.9999999999999988, 'RMSE': 9.815194229089359e-05, 'Time taken': 0.21521711349487305}\n"
          ]
        },
        {
          "output_type": "stream",
          "name": "stderr",
          "text": [
            "\r 61%|██████    | 23/38 [02:38<03:58, 15.87s/it]"
          ]
        },
        {
          "output_type": "stream",
          "name": "stdout",
          "text": [
            "{'Model': 'MLPRegressor', 'R-Squared': 0.9838644608461202, 'Adjusted R-Squared': 0.9837083104672117, 'RMSE': 364.239926634482, 'Time taken': 52.11797857284546}\n"
          ]
        },
        {
          "output_type": "stream",
          "name": "stderr",
          "text": [
            "\r 63%|██████▎   | 24/38 [04:49<11:40, 50.01s/it]"
          ]
        },
        {
          "output_type": "stream",
          "name": "stdout",
          "text": [
            "{'Model': 'NuSVR', 'R-Squared': 0.49915207628628555, 'Adjusted R-Squared': 0.4943051608955076, 'RMSE': 2029.3116468425558, 'Time taken': 131.07694721221924}\n",
            "{'Model': 'OrthogonalMatchingPursuit', 'R-Squared': 0.999999999999999, 'Adjusted R-Squared': 0.999999999999999, 'RMSE': 8.912494369494948e-05, 'Time taken': 0.07592511177062988}\n"
          ]
        },
        {
          "output_type": "stream",
          "name": "stderr",
          "text": [
            " 71%|███████   | 27/38 [04:50<03:45, 20.48s/it]"
          ]
        },
        {
          "output_type": "stream",
          "name": "stdout",
          "text": [
            "{'Model': 'OrthogonalMatchingPursuitCV', 'R-Squared': 0.999999999999999, 'Adjusted R-Squared': 0.999999999999999, 'RMSE': 8.890963819595112e-05, 'Time taken': 0.205841064453125}\n",
            "{'Model': 'PassiveAggressiveRegressor', 'R-Squared': 0.9999999998300406, 'Adjusted R-Squared': 0.9999999998283958, 'RMSE': 0.03738249710704619, 'Time taken': 0.12998294830322266}\n"
          ]
        },
        {
          "output_type": "stream",
          "name": "stderr",
          "text": [
            " 76%|███████▋  | 29/38 [04:51<01:40, 11.19s/it]"
          ]
        },
        {
          "output_type": "stream",
          "name": "stdout",
          "text": [
            "{'Model': 'PoissonRegressor', 'R-Squared': 0.9951102182626361, 'Adjusted R-Squared': 0.99506289779421, 'RMSE': 200.51208185242945, 'Time taken': 0.563399076461792}\n",
            "{'Model': 'RANSACRegressor', 'R-Squared': 1.0, 'Adjusted R-Squared': 1.0, 'RMSE': 1.5104775315578877e-05, 'Time taken': 0.15778875350952148}\n"
          ]
        },
        {
          "output_type": "stream",
          "name": "stderr",
          "text": [
            "\r 79%|███████▉  | 30/38 [06:33<04:53, 36.65s/it]"
          ]
        },
        {
          "output_type": "stream",
          "name": "stdout",
          "text": [
            "{'Model': 'RandomForestRegressor', 'R-Squared': 0.9995885295488525, 'Adjusted R-Squared': 0.9995845475767446, 'RMSE': 58.165455766646865, 'Time taken': 102.34476470947266}\n",
            "{'Model': 'Ridge', 'R-Squared': 0.9999999993776276, 'Adjusted R-Squared': 0.9999999993716047, 'RMSE': 0.07153539305310642, 'Time taken': 0.08486700057983398}\n"
          ]
        },
        {
          "output_type": "stream",
          "name": "stderr",
          "text": [
            "\r 84%|████████▍ | 32/38 [06:33<02:02, 20.45s/it]"
          ]
        },
        {
          "output_type": "stream",
          "name": "stdout",
          "text": [
            "{'Model': 'RidgeCV', 'R-Squared': 0.9999999999937664, 'Adjusted R-Squared': 0.9999999999937061, 'RMSE': 0.0071592088037201, 'Time taken': 0.23176240921020508}\n"
          ]
        },
        {
          "output_type": "stream",
          "name": "stderr",
          "text": [
            "\r 87%|████████▋ | 33/38 [06:34<01:18, 15.70s/it]"
          ]
        },
        {
          "output_type": "stream",
          "name": "stdout",
          "text": [
            "{'Model': 'SGDRegressor', 'R-Squared': 0.9999999884387972, 'Adjusted R-Squared': 0.9999999883269146, 'RMSE': 0.30831689052611144, 'Time taken': 0.6936898231506348}\n"
          ]
        },
        {
          "output_type": "stream",
          "name": "stderr",
          "text": [
            " 92%|█████████▏| 35/38 [08:37<01:34, 31.67s/it]"
          ]
        },
        {
          "output_type": "stream",
          "name": "stdout",
          "text": [
            "{'Model': 'SVR', 'R-Squared': 0.5503533311806614, 'Adjusted R-Squared': 0.5460019118049904, 'RMSE': 1922.7884257368712, 'Time taken': 123.14494490623474}\n",
            "{'Model': 'TransformedTargetRegressor', 'R-Squared': 1.0, 'Adjusted R-Squared': 1.0, 'RMSE': 1.5104775315578877e-05, 'Time taken': 0.1318676471710205}\n"
          ]
        },
        {
          "output_type": "stream",
          "name": "stderr",
          "text": [
            "\r 95%|█████████▍| 36/38 [08:37<00:45, 22.97s/it]"
          ]
        },
        {
          "output_type": "stream",
          "name": "stdout",
          "text": [
            "{'Model': 'TweedieRegressor', 'R-Squared': 0.9575996491994886, 'Adjusted R-Squared': 0.9571893232239997, 'RMSE': 590.4464746682401, 'Time taken': 0.21399140357971191}\n"
          ]
        },
        {
          "output_type": "stream",
          "name": "stderr",
          "text": [
            "\r 97%|█████████▋| 37/38 [08:55<00:21, 21.36s/it]"
          ]
        },
        {
          "output_type": "stream",
          "name": "stdout",
          "text": [
            "{'Model': 'XGBRegressor', 'R-Squared': 0.9996010114503018, 'Adjusted R-Squared': 0.9995971502707885, 'RMSE': 57.276441126072875, 'Time taken': 17.305577278137207}\n"
          ]
        },
        {
          "output_type": "stream",
          "name": "stderr",
          "text": [
            "100%|██████████| 38/38 [08:57<00:00, 14.15s/it]"
          ]
        },
        {
          "output_type": "stream",
          "name": "stdout",
          "text": [
            "{'Model': 'LGBMRegressor', 'R-Squared': 0.9994900633196989, 'Adjusted R-Squared': 0.9994851284485993, 'RMSE': 64.75211155411888, 'Time taken': 2.552565097808838}\n"
          ]
        },
        {
          "output_type": "stream",
          "name": "stderr",
          "text": [
            "\n"
          ]
        },
        {
          "output_type": "execute_result",
          "data": {
            "text/plain": [
              "                               Adjusted R-Squared  R-Squared     RMSE  \\\n",
              "Model                                                                   \n",
              "LinearRegression                             1.00       1.00     0.00   \n",
              "RANSACRegressor                              1.00       1.00     0.00   \n",
              "TransformedTargetRegressor                   1.00       1.00     0.00   \n",
              "LassoLarsCV                                  1.00       1.00     0.00   \n",
              "LarsCV                                       1.00       1.00     0.00   \n",
              "OrthogonalMatchingPursuit                    1.00       1.00     0.00   \n",
              "OrthogonalMatchingPursuitCV                  1.00       1.00     0.00   \n",
              "LassoLarsIC                                  1.00       1.00     0.00   \n",
              "LinearSVR                                    1.00       1.00     0.00   \n",
              "RidgeCV                                      1.00       1.00     0.01   \n",
              "PassiveAggressiveRegressor                   1.00       1.00     0.04   \n",
              "Ridge                                        1.00       1.00     0.07   \n",
              "SGDRegressor                                 1.00       1.00     0.31   \n",
              "LassoLars                                    1.00       1.00     1.92   \n",
              "Lasso                                        1.00       1.00     2.24   \n",
              "LassoCV                                      1.00       1.00     5.89   \n",
              "HuberRegressor                               1.00       1.00     9.79   \n",
              "ExtraTreesRegressor                          1.00       1.00    35.68   \n",
              "XGBRegressor                                 1.00       1.00    57.28   \n",
              "RandomForestRegressor                        1.00       1.00    58.17   \n",
              "BaggingRegressor                             1.00       1.00    64.38   \n",
              "LGBMRegressor                                1.00       1.00    64.75   \n",
              "HistGradientBoostingRegressor                1.00       1.00    70.37   \n",
              "DecisionTreeRegressor                        1.00       1.00    89.93   \n",
              "GradientBoostingRegressor                    1.00       1.00   112.86   \n",
              "ExtraTreeRegressor                           1.00       1.00   124.61   \n",
              "PoissonRegressor                             1.00       1.00   200.51   \n",
              "AdaBoostRegressor                            0.98       0.98   362.72   \n",
              "MLPRegressor                                 0.98       0.98   364.24   \n",
              "ElasticNet                                   0.98       0.98   409.28   \n",
              "KNeighborsRegressor                          0.97       0.97   480.30   \n",
              "TweedieRegressor                             0.96       0.96   590.45   \n",
              "ElasticNetCV                                 0.87       0.87  1039.13   \n",
              "SVR                                          0.55       0.55  1922.79   \n",
              "NuSVR                                        0.49       0.50  2029.31   \n",
              "DummyRegressor                              -0.01      -0.00  2868.17   \n",
              "Lars                                        -0.61      -0.59  3616.43   \n",
              "BayesianRidge                             -150.85    -149.39 35164.58   \n",
              "\n",
              "                               Time Taken  \n",
              "Model                                      \n",
              "LinearRegression                     0.23  \n",
              "RANSACRegressor                      0.16  \n",
              "TransformedTargetRegressor           0.13  \n",
              "LassoLarsCV                          0.61  \n",
              "LarsCV                               0.40  \n",
              "OrthogonalMatchingPursuit            0.08  \n",
              "OrthogonalMatchingPursuitCV          0.21  \n",
              "LassoLarsIC                          0.38  \n",
              "LinearSVR                            0.22  \n",
              "RidgeCV                              0.23  \n",
              "PassiveAggressiveRegressor           0.13  \n",
              "Ridge                                0.08  \n",
              "SGDRegressor                         0.69  \n",
              "LassoLars                            0.18  \n",
              "Lasso                                0.18  \n",
              "LassoCV                              1.33  \n",
              "HuberRegressor                       1.14  \n",
              "ExtraTreesRegressor                 33.21  \n",
              "XGBRegressor                        17.31  \n",
              "RandomForestRegressor              102.34  \n",
              "BaggingRegressor                    11.00  \n",
              "LGBMRegressor                        2.55  \n",
              "HistGradientBoostingRegressor        1.58  \n",
              "DecisionTreeRegressor                1.93  \n",
              "GradientBoostingRegressor           32.90  \n",
              "ExtraTreeRegressor                   0.44  \n",
              "PoissonRegressor                     0.56  \n",
              "AdaBoostRegressor                   18.10  \n",
              "MLPRegressor                        52.12  \n",
              "ElasticNet                           0.15  \n",
              "KNeighborsRegressor                  1.09  \n",
              "TweedieRegressor                     0.21  \n",
              "ElasticNetCV                         0.69  \n",
              "SVR                                123.14  \n",
              "NuSVR                              131.08  \n",
              "DummyRegressor                       0.06  \n",
              "Lars                                 0.09  \n",
              "BayesianRidge                        0.76  "
            ],
            "text/html": [
              "\n",
              "  <div id=\"df-a82c0e9c-0e1d-4aa8-a474-b311d3c45f9f\">\n",
              "    <div class=\"colab-df-container\">\n",
              "      <div>\n",
              "<style scoped>\n",
              "    .dataframe tbody tr th:only-of-type {\n",
              "        vertical-align: middle;\n",
              "    }\n",
              "\n",
              "    .dataframe tbody tr th {\n",
              "        vertical-align: top;\n",
              "    }\n",
              "\n",
              "    .dataframe thead th {\n",
              "        text-align: right;\n",
              "    }\n",
              "</style>\n",
              "<table border=\"1\" class=\"dataframe\">\n",
              "  <thead>\n",
              "    <tr style=\"text-align: right;\">\n",
              "      <th></th>\n",
              "      <th>Adjusted R-Squared</th>\n",
              "      <th>R-Squared</th>\n",
              "      <th>RMSE</th>\n",
              "      <th>Time Taken</th>\n",
              "    </tr>\n",
              "    <tr>\n",
              "      <th>Model</th>\n",
              "      <th></th>\n",
              "      <th></th>\n",
              "      <th></th>\n",
              "      <th></th>\n",
              "    </tr>\n",
              "  </thead>\n",
              "  <tbody>\n",
              "    <tr>\n",
              "      <th>LinearRegression</th>\n",
              "      <td>1.00</td>\n",
              "      <td>1.00</td>\n",
              "      <td>0.00</td>\n",
              "      <td>0.23</td>\n",
              "    </tr>\n",
              "    <tr>\n",
              "      <th>RANSACRegressor</th>\n",
              "      <td>1.00</td>\n",
              "      <td>1.00</td>\n",
              "      <td>0.00</td>\n",
              "      <td>0.16</td>\n",
              "    </tr>\n",
              "    <tr>\n",
              "      <th>TransformedTargetRegressor</th>\n",
              "      <td>1.00</td>\n",
              "      <td>1.00</td>\n",
              "      <td>0.00</td>\n",
              "      <td>0.13</td>\n",
              "    </tr>\n",
              "    <tr>\n",
              "      <th>LassoLarsCV</th>\n",
              "      <td>1.00</td>\n",
              "      <td>1.00</td>\n",
              "      <td>0.00</td>\n",
              "      <td>0.61</td>\n",
              "    </tr>\n",
              "    <tr>\n",
              "      <th>LarsCV</th>\n",
              "      <td>1.00</td>\n",
              "      <td>1.00</td>\n",
              "      <td>0.00</td>\n",
              "      <td>0.40</td>\n",
              "    </tr>\n",
              "    <tr>\n",
              "      <th>OrthogonalMatchingPursuit</th>\n",
              "      <td>1.00</td>\n",
              "      <td>1.00</td>\n",
              "      <td>0.00</td>\n",
              "      <td>0.08</td>\n",
              "    </tr>\n",
              "    <tr>\n",
              "      <th>OrthogonalMatchingPursuitCV</th>\n",
              "      <td>1.00</td>\n",
              "      <td>1.00</td>\n",
              "      <td>0.00</td>\n",
              "      <td>0.21</td>\n",
              "    </tr>\n",
              "    <tr>\n",
              "      <th>LassoLarsIC</th>\n",
              "      <td>1.00</td>\n",
              "      <td>1.00</td>\n",
              "      <td>0.00</td>\n",
              "      <td>0.38</td>\n",
              "    </tr>\n",
              "    <tr>\n",
              "      <th>LinearSVR</th>\n",
              "      <td>1.00</td>\n",
              "      <td>1.00</td>\n",
              "      <td>0.00</td>\n",
              "      <td>0.22</td>\n",
              "    </tr>\n",
              "    <tr>\n",
              "      <th>RidgeCV</th>\n",
              "      <td>1.00</td>\n",
              "      <td>1.00</td>\n",
              "      <td>0.01</td>\n",
              "      <td>0.23</td>\n",
              "    </tr>\n",
              "    <tr>\n",
              "      <th>PassiveAggressiveRegressor</th>\n",
              "      <td>1.00</td>\n",
              "      <td>1.00</td>\n",
              "      <td>0.04</td>\n",
              "      <td>0.13</td>\n",
              "    </tr>\n",
              "    <tr>\n",
              "      <th>Ridge</th>\n",
              "      <td>1.00</td>\n",
              "      <td>1.00</td>\n",
              "      <td>0.07</td>\n",
              "      <td>0.08</td>\n",
              "    </tr>\n",
              "    <tr>\n",
              "      <th>SGDRegressor</th>\n",
              "      <td>1.00</td>\n",
              "      <td>1.00</td>\n",
              "      <td>0.31</td>\n",
              "      <td>0.69</td>\n",
              "    </tr>\n",
              "    <tr>\n",
              "      <th>LassoLars</th>\n",
              "      <td>1.00</td>\n",
              "      <td>1.00</td>\n",
              "      <td>1.92</td>\n",
              "      <td>0.18</td>\n",
              "    </tr>\n",
              "    <tr>\n",
              "      <th>Lasso</th>\n",
              "      <td>1.00</td>\n",
              "      <td>1.00</td>\n",
              "      <td>2.24</td>\n",
              "      <td>0.18</td>\n",
              "    </tr>\n",
              "    <tr>\n",
              "      <th>LassoCV</th>\n",
              "      <td>1.00</td>\n",
              "      <td>1.00</td>\n",
              "      <td>5.89</td>\n",
              "      <td>1.33</td>\n",
              "    </tr>\n",
              "    <tr>\n",
              "      <th>HuberRegressor</th>\n",
              "      <td>1.00</td>\n",
              "      <td>1.00</td>\n",
              "      <td>9.79</td>\n",
              "      <td>1.14</td>\n",
              "    </tr>\n",
              "    <tr>\n",
              "      <th>ExtraTreesRegressor</th>\n",
              "      <td>1.00</td>\n",
              "      <td>1.00</td>\n",
              "      <td>35.68</td>\n",
              "      <td>33.21</td>\n",
              "    </tr>\n",
              "    <tr>\n",
              "      <th>XGBRegressor</th>\n",
              "      <td>1.00</td>\n",
              "      <td>1.00</td>\n",
              "      <td>57.28</td>\n",
              "      <td>17.31</td>\n",
              "    </tr>\n",
              "    <tr>\n",
              "      <th>RandomForestRegressor</th>\n",
              "      <td>1.00</td>\n",
              "      <td>1.00</td>\n",
              "      <td>58.17</td>\n",
              "      <td>102.34</td>\n",
              "    </tr>\n",
              "    <tr>\n",
              "      <th>BaggingRegressor</th>\n",
              "      <td>1.00</td>\n",
              "      <td>1.00</td>\n",
              "      <td>64.38</td>\n",
              "      <td>11.00</td>\n",
              "    </tr>\n",
              "    <tr>\n",
              "      <th>LGBMRegressor</th>\n",
              "      <td>1.00</td>\n",
              "      <td>1.00</td>\n",
              "      <td>64.75</td>\n",
              "      <td>2.55</td>\n",
              "    </tr>\n",
              "    <tr>\n",
              "      <th>HistGradientBoostingRegressor</th>\n",
              "      <td>1.00</td>\n",
              "      <td>1.00</td>\n",
              "      <td>70.37</td>\n",
              "      <td>1.58</td>\n",
              "    </tr>\n",
              "    <tr>\n",
              "      <th>DecisionTreeRegressor</th>\n",
              "      <td>1.00</td>\n",
              "      <td>1.00</td>\n",
              "      <td>89.93</td>\n",
              "      <td>1.93</td>\n",
              "    </tr>\n",
              "    <tr>\n",
              "      <th>GradientBoostingRegressor</th>\n",
              "      <td>1.00</td>\n",
              "      <td>1.00</td>\n",
              "      <td>112.86</td>\n",
              "      <td>32.90</td>\n",
              "    </tr>\n",
              "    <tr>\n",
              "      <th>ExtraTreeRegressor</th>\n",
              "      <td>1.00</td>\n",
              "      <td>1.00</td>\n",
              "      <td>124.61</td>\n",
              "      <td>0.44</td>\n",
              "    </tr>\n",
              "    <tr>\n",
              "      <th>PoissonRegressor</th>\n",
              "      <td>1.00</td>\n",
              "      <td>1.00</td>\n",
              "      <td>200.51</td>\n",
              "      <td>0.56</td>\n",
              "    </tr>\n",
              "    <tr>\n",
              "      <th>AdaBoostRegressor</th>\n",
              "      <td>0.98</td>\n",
              "      <td>0.98</td>\n",
              "      <td>362.72</td>\n",
              "      <td>18.10</td>\n",
              "    </tr>\n",
              "    <tr>\n",
              "      <th>MLPRegressor</th>\n",
              "      <td>0.98</td>\n",
              "      <td>0.98</td>\n",
              "      <td>364.24</td>\n",
              "      <td>52.12</td>\n",
              "    </tr>\n",
              "    <tr>\n",
              "      <th>ElasticNet</th>\n",
              "      <td>0.98</td>\n",
              "      <td>0.98</td>\n",
              "      <td>409.28</td>\n",
              "      <td>0.15</td>\n",
              "    </tr>\n",
              "    <tr>\n",
              "      <th>KNeighborsRegressor</th>\n",
              "      <td>0.97</td>\n",
              "      <td>0.97</td>\n",
              "      <td>480.30</td>\n",
              "      <td>1.09</td>\n",
              "    </tr>\n",
              "    <tr>\n",
              "      <th>TweedieRegressor</th>\n",
              "      <td>0.96</td>\n",
              "      <td>0.96</td>\n",
              "      <td>590.45</td>\n",
              "      <td>0.21</td>\n",
              "    </tr>\n",
              "    <tr>\n",
              "      <th>ElasticNetCV</th>\n",
              "      <td>0.87</td>\n",
              "      <td>0.87</td>\n",
              "      <td>1039.13</td>\n",
              "      <td>0.69</td>\n",
              "    </tr>\n",
              "    <tr>\n",
              "      <th>SVR</th>\n",
              "      <td>0.55</td>\n",
              "      <td>0.55</td>\n",
              "      <td>1922.79</td>\n",
              "      <td>123.14</td>\n",
              "    </tr>\n",
              "    <tr>\n",
              "      <th>NuSVR</th>\n",
              "      <td>0.49</td>\n",
              "      <td>0.50</td>\n",
              "      <td>2029.31</td>\n",
              "      <td>131.08</td>\n",
              "    </tr>\n",
              "    <tr>\n",
              "      <th>DummyRegressor</th>\n",
              "      <td>-0.01</td>\n",
              "      <td>-0.00</td>\n",
              "      <td>2868.17</td>\n",
              "      <td>0.06</td>\n",
              "    </tr>\n",
              "    <tr>\n",
              "      <th>Lars</th>\n",
              "      <td>-0.61</td>\n",
              "      <td>-0.59</td>\n",
              "      <td>3616.43</td>\n",
              "      <td>0.09</td>\n",
              "    </tr>\n",
              "    <tr>\n",
              "      <th>BayesianRidge</th>\n",
              "      <td>-150.85</td>\n",
              "      <td>-149.39</td>\n",
              "      <td>35164.58</td>\n",
              "      <td>0.76</td>\n",
              "    </tr>\n",
              "  </tbody>\n",
              "</table>\n",
              "</div>\n",
              "      <button class=\"colab-df-convert\" onclick=\"convertToInteractive('df-a82c0e9c-0e1d-4aa8-a474-b311d3c45f9f')\"\n",
              "              title=\"Convert this dataframe to an interactive table.\"\n",
              "              style=\"display:none;\">\n",
              "        \n",
              "  <svg xmlns=\"http://www.w3.org/2000/svg\" height=\"24px\"viewBox=\"0 0 24 24\"\n",
              "       width=\"24px\">\n",
              "    <path d=\"M0 0h24v24H0V0z\" fill=\"none\"/>\n",
              "    <path d=\"M18.56 5.44l.94 2.06.94-2.06 2.06-.94-2.06-.94-.94-2.06-.94 2.06-2.06.94zm-11 1L8.5 8.5l.94-2.06 2.06-.94-2.06-.94L8.5 2.5l-.94 2.06-2.06.94zm10 10l.94 2.06.94-2.06 2.06-.94-2.06-.94-.94-2.06-.94 2.06-2.06.94z\"/><path d=\"M17.41 7.96l-1.37-1.37c-.4-.4-.92-.59-1.43-.59-.52 0-1.04.2-1.43.59L10.3 9.45l-7.72 7.72c-.78.78-.78 2.05 0 2.83L4 21.41c.39.39.9.59 1.41.59.51 0 1.02-.2 1.41-.59l7.78-7.78 2.81-2.81c.8-.78.8-2.07 0-2.86zM5.41 20L4 18.59l7.72-7.72 1.47 1.35L5.41 20z\"/>\n",
              "  </svg>\n",
              "      </button>\n",
              "      \n",
              "  <style>\n",
              "    .colab-df-container {\n",
              "      display:flex;\n",
              "      flex-wrap:wrap;\n",
              "      gap: 12px;\n",
              "    }\n",
              "\n",
              "    .colab-df-convert {\n",
              "      background-color: #E8F0FE;\n",
              "      border: none;\n",
              "      border-radius: 50%;\n",
              "      cursor: pointer;\n",
              "      display: none;\n",
              "      fill: #1967D2;\n",
              "      height: 32px;\n",
              "      padding: 0 0 0 0;\n",
              "      width: 32px;\n",
              "    }\n",
              "\n",
              "    .colab-df-convert:hover {\n",
              "      background-color: #E2EBFA;\n",
              "      box-shadow: 0px 1px 2px rgba(60, 64, 67, 0.3), 0px 1px 3px 1px rgba(60, 64, 67, 0.15);\n",
              "      fill: #174EA6;\n",
              "    }\n",
              "\n",
              "    [theme=dark] .colab-df-convert {\n",
              "      background-color: #3B4455;\n",
              "      fill: #D2E3FC;\n",
              "    }\n",
              "\n",
              "    [theme=dark] .colab-df-convert:hover {\n",
              "      background-color: #434B5C;\n",
              "      box-shadow: 0px 1px 3px 1px rgba(0, 0, 0, 0.15);\n",
              "      filter: drop-shadow(0px 1px 2px rgba(0, 0, 0, 0.3));\n",
              "      fill: #FFFFFF;\n",
              "    }\n",
              "  </style>\n",
              "\n",
              "      <script>\n",
              "        const buttonEl =\n",
              "          document.querySelector('#df-a82c0e9c-0e1d-4aa8-a474-b311d3c45f9f button.colab-df-convert');\n",
              "        buttonEl.style.display =\n",
              "          google.colab.kernel.accessAllowed ? 'block' : 'none';\n",
              "\n",
              "        async function convertToInteractive(key) {\n",
              "          const element = document.querySelector('#df-a82c0e9c-0e1d-4aa8-a474-b311d3c45f9f');\n",
              "          const dataTable =\n",
              "            await google.colab.kernel.invokeFunction('convertToInteractive',\n",
              "                                                     [key], {});\n",
              "          if (!dataTable) return;\n",
              "\n",
              "          const docLinkHtml = 'Like what you see? Visit the ' +\n",
              "            '<a target=\"_blank\" href=https://colab.research.google.com/notebooks/data_table.ipynb>data table notebook</a>'\n",
              "            + ' to learn more about interactive tables.';\n",
              "          element.innerHTML = '';\n",
              "          dataTable['output_type'] = 'display_data';\n",
              "          await google.colab.output.renderOutput(dataTable, element);\n",
              "          const docLink = document.createElement('div');\n",
              "          docLink.innerHTML = docLinkHtml;\n",
              "          element.appendChild(docLink);\n",
              "        }\n",
              "      </script>\n",
              "    </div>\n",
              "  </div>\n",
              "  "
            ]
          },
          "metadata": {},
          "execution_count": 13
        }
      ]
    },
    {
      "cell_type": "code",
      "source": [
        "\n",
        "\n",
        "# add the predictions to the original dataframe\n",
        "newd_eskom['predictions'] = pred\n",
        "\n",
        "# view the results\n",
        "print(newd_eskom.head())"
      ],
      "metadata": {
        "id": "WPhkpqTYHQKt"
      },
      "execution_count": null,
      "outputs": []
    }
  ]
}