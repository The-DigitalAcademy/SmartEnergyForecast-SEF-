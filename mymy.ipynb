{
 "cells": [
  {
   "cell_type": "code",
   "execution_count": 2,
   "metadata": {},
   "outputs": [],
   "source": [
    "import numpy as np\n",
    "import pandas as pd\n",
    "import matplotlib.pyplot as plt\n",
    "import seaborn as sns\n",
    "%matplotlib inline"
   ]
  },
  {
   "cell_type": "code",
   "execution_count": 3,
   "metadata": {},
   "outputs": [],
   "source": [
    "# for numeric handling\n",
    "import numpy as np\n",
    "# to handle dataframes\n",
    "import pandas as pd \n",
    "# for plotting\n",
    "import matplotlib.pyplot as plt"
   ]
  },
  {
   "cell_type": "code",
   "execution_count": null,
   "metadata": {},
   "outputs": [],
   "source": []
  },
  {
   "cell_type": "code",
   "execution_count": null,
   "metadata": {},
   "outputs": [],
   "source": []
  },
  {
   "cell_type": "code",
   "execution_count": 4,
   "metadata": {},
   "outputs": [],
   "source": [
    "df_eskom = pd.read_csv(\"/Users/ds_learner51/Desktop/smartEnergy/SmartEnergyForecast-SEF-/myupdateddata (1).csv\")"
   ]
  },
  {
   "cell_type": "code",
   "execution_count": 5,
   "metadata": {},
   "outputs": [
    {
     "data": {
      "text/plain": [
       "Unnamed: 0.1                               int64\n",
       "Unnamed: 0                                 int64\n",
       "Date Time Hour Beginning                  object\n",
       "Original Res Forecast before Lockdown    float64\n",
       "Residual Forecast                        float64\n",
       "RSA Contracted Forecast                  float64\n",
       "Dispatchable Generation                  float64\n",
       "Residual Demand                          float64\n",
       "RSA Contracted Demand                    float64\n",
       "International Exports                    float64\n",
       "International Imports                    float64\n",
       "Thermal Generation                       float64\n",
       "Nuclear Generation                       float64\n",
       "Eskom Gas Generation                     float64\n",
       "Eskom OCGT Generation                    float64\n",
       "Hydro Water Generation                   float64\n",
       "Pumped Water Generation                  float64\n",
       "ILS Usage                                float64\n",
       "Manual Load_Reduction(MLR)               float64\n",
       "IOS Excl ILS and MLR                     float64\n",
       "Dispatchable IPP OCGT                    float64\n",
       "Eskom Gas SCO                            float64\n",
       "Eskom OCGT SCO                           float64\n",
       "Hydro Water SCO                          float64\n",
       "Pumped Water SCO Pumping                 float64\n",
       "Wind                                     float64\n",
       "PV                                       float64\n",
       "CSP                                      float64\n",
       "Other RE                                 float64\n",
       "Total RE                                 float64\n",
       "Wind Installed Capacity                  float64\n",
       "PV Installed Capacity                    float64\n",
       "CSP Installed Capacity                   float64\n",
       "Other RE Installed Capacity              float64\n",
       "Total RE Installed Capacity              float64\n",
       "Installed Eskom Capacity                 float64\n",
       "Total PCLF                               float64\n",
       "Total UCLF                               float64\n",
       "Total OCLF                               float64\n",
       "Total UCLF+OCLF                          float64\n",
       "Non Comm Sentout                         float64\n",
       "Drakensberg Gen Unit Hours               float64\n",
       "Palmiet Gen Unit Hours                   float64\n",
       "Ingula Gen Unit Hours                    float64\n",
       "dtype: object"
      ]
     },
     "execution_count": 5,
     "metadata": {},
     "output_type": "execute_result"
    }
   ],
   "source": [
    "df_eskom.dtypes"
   ]
  },
  {
   "cell_type": "code",
   "execution_count": 6,
   "metadata": {},
   "outputs": [
    {
     "data": {
      "text/plain": [
       "Unnamed: 0.1                             0\n",
       "Unnamed: 0                               0\n",
       "Date Time Hour Beginning                 0\n",
       "Original Res Forecast before Lockdown    0\n",
       "Residual Forecast                        0\n",
       "RSA Contracted Forecast                  0\n",
       "Dispatchable Generation                  0\n",
       "Residual Demand                          0\n",
       "RSA Contracted Demand                    0\n",
       "International Exports                    0\n",
       "International Imports                    0\n",
       "Thermal Generation                       0\n",
       "Nuclear Generation                       0\n",
       "Eskom Gas Generation                     0\n",
       "Eskom OCGT Generation                    0\n",
       "Hydro Water Generation                   0\n",
       "Pumped Water Generation                  0\n",
       "ILS Usage                                0\n",
       "Manual Load_Reduction(MLR)               0\n",
       "IOS Excl ILS and MLR                     0\n",
       "Dispatchable IPP OCGT                    0\n",
       "Eskom Gas SCO                            0\n",
       "Eskom OCGT SCO                           0\n",
       "Hydro Water SCO                          0\n",
       "Pumped Water SCO Pumping                 0\n",
       "Wind                                     0\n",
       "PV                                       0\n",
       "CSP                                      0\n",
       "Other RE                                 0\n",
       "Total RE                                 0\n",
       "Wind Installed Capacity                  0\n",
       "PV Installed Capacity                    0\n",
       "CSP Installed Capacity                   0\n",
       "Other RE Installed Capacity              0\n",
       "Total RE Installed Capacity              0\n",
       "Installed Eskom Capacity                 0\n",
       "Total PCLF                               0\n",
       "Total UCLF                               0\n",
       "Total OCLF                               0\n",
       "Total UCLF+OCLF                          0\n",
       "Non Comm Sentout                         0\n",
       "Drakensberg Gen Unit Hours               0\n",
       "Palmiet Gen Unit Hours                   0\n",
       "Ingula Gen Unit Hours                    0\n",
       "dtype: int64"
      ]
     },
     "execution_count": 6,
     "metadata": {},
     "output_type": "execute_result"
    }
   ],
   "source": [
    "# To check if there are any missing values in the dataset\n",
    "df_eskom.isnull().sum()"
   ]
  },
  {
   "cell_type": "code",
   "execution_count": 7,
   "metadata": {},
   "outputs": [],
   "source": [
    "\n",
    "newd_eskom=df_eskom.drop(['Date Time Hour Beginning'],axis=1)"
   ]
  },
  {
   "cell_type": "code",
   "execution_count": 8,
   "metadata": {},
   "outputs": [
    {
     "data": {
      "text/html": [
       "<div>\n",
       "<style scoped>\n",
       "    .dataframe tbody tr th:only-of-type {\n",
       "        vertical-align: middle;\n",
       "    }\n",
       "\n",
       "    .dataframe tbody tr th {\n",
       "        vertical-align: top;\n",
       "    }\n",
       "\n",
       "    .dataframe thead th {\n",
       "        text-align: right;\n",
       "    }\n",
       "</style>\n",
       "<table border=\"1\" class=\"dataframe\">\n",
       "  <thead>\n",
       "    <tr style=\"text-align: right;\">\n",
       "      <th></th>\n",
       "      <th>Unnamed: 0.1</th>\n",
       "      <th>Unnamed: 0</th>\n",
       "      <th>Original Res Forecast before Lockdown</th>\n",
       "      <th>Residual Forecast</th>\n",
       "      <th>RSA Contracted Forecast</th>\n",
       "      <th>Dispatchable Generation</th>\n",
       "      <th>Residual Demand</th>\n",
       "      <th>RSA Contracted Demand</th>\n",
       "      <th>International Exports</th>\n",
       "      <th>International Imports</th>\n",
       "      <th>...</th>\n",
       "      <th>Total RE Installed Capacity</th>\n",
       "      <th>Installed Eskom Capacity</th>\n",
       "      <th>Total PCLF</th>\n",
       "      <th>Total UCLF</th>\n",
       "      <th>Total OCLF</th>\n",
       "      <th>Total UCLF+OCLF</th>\n",
       "      <th>Non Comm Sentout</th>\n",
       "      <th>Drakensberg Gen Unit Hours</th>\n",
       "      <th>Palmiet Gen Unit Hours</th>\n",
       "      <th>Ingula Gen Unit Hours</th>\n",
       "    </tr>\n",
       "  </thead>\n",
       "  <tbody>\n",
       "    <tr>\n",
       "      <th>0</th>\n",
       "      <td>0</td>\n",
       "      <td>0</td>\n",
       "      <td>0.0</td>\n",
       "      <td>19904.967</td>\n",
       "      <td>20367.066</td>\n",
       "      <td>20237.0</td>\n",
       "      <td>20237.0</td>\n",
       "      <td>20722.058</td>\n",
       "      <td>1215.902</td>\n",
       "      <td>1120.0</td>\n",
       "      <td>...</td>\n",
       "      <td>3873.69</td>\n",
       "      <td>44546.0</td>\n",
       "      <td>3987.472</td>\n",
       "      <td>8028.710</td>\n",
       "      <td>275.907</td>\n",
       "      <td>8304.0</td>\n",
       "      <td>617.0</td>\n",
       "      <td>383.0</td>\n",
       "      <td>81.8</td>\n",
       "      <td>36.9</td>\n",
       "    </tr>\n",
       "    <tr>\n",
       "      <th>1</th>\n",
       "      <td>1</td>\n",
       "      <td>1</td>\n",
       "      <td>0.0</td>\n",
       "      <td>19553.899</td>\n",
       "      <td>19988.733</td>\n",
       "      <td>19744.0</td>\n",
       "      <td>19744.0</td>\n",
       "      <td>20188.493</td>\n",
       "      <td>1203.474</td>\n",
       "      <td>1106.0</td>\n",
       "      <td>...</td>\n",
       "      <td>3873.69</td>\n",
       "      <td>44546.0</td>\n",
       "      <td>3987.472</td>\n",
       "      <td>7727.302</td>\n",
       "      <td>244.907</td>\n",
       "      <td>7972.0</td>\n",
       "      <td>209.0</td>\n",
       "      <td>388.0</td>\n",
       "      <td>83.0</td>\n",
       "      <td>38.5</td>\n",
       "    </tr>\n",
       "    <tr>\n",
       "      <th>2</th>\n",
       "      <td>2</td>\n",
       "      <td>2</td>\n",
       "      <td>0.0</td>\n",
       "      <td>19314.284</td>\n",
       "      <td>19731.239</td>\n",
       "      <td>19631.0</td>\n",
       "      <td>19631.0</td>\n",
       "      <td>20019.603</td>\n",
       "      <td>1177.571</td>\n",
       "      <td>1117.0</td>\n",
       "      <td>...</td>\n",
       "      <td>3873.69</td>\n",
       "      <td>44546.0</td>\n",
       "      <td>3987.472</td>\n",
       "      <td>7704.704</td>\n",
       "      <td>193.727</td>\n",
       "      <td>7898.0</td>\n",
       "      <td>431.0</td>\n",
       "      <td>388.0</td>\n",
       "      <td>83.8</td>\n",
       "      <td>40.3</td>\n",
       "    </tr>\n",
       "    <tr>\n",
       "      <th>3</th>\n",
       "      <td>3</td>\n",
       "      <td>3</td>\n",
       "      <td>0.0</td>\n",
       "      <td>19342.679</td>\n",
       "      <td>19753.554</td>\n",
       "      <td>19731.0</td>\n",
       "      <td>19731.0</td>\n",
       "      <td>20079.454</td>\n",
       "      <td>1184.312</td>\n",
       "      <td>1118.0</td>\n",
       "      <td>...</td>\n",
       "      <td>3873.69</td>\n",
       "      <td>44546.0</td>\n",
       "      <td>3990.072</td>\n",
       "      <td>7702.868</td>\n",
       "      <td>187.000</td>\n",
       "      <td>7889.0</td>\n",
       "      <td>868.0</td>\n",
       "      <td>389.0</td>\n",
       "      <td>85.0</td>\n",
       "      <td>42.0</td>\n",
       "    </tr>\n",
       "    <tr>\n",
       "      <th>4</th>\n",
       "      <td>4</td>\n",
       "      <td>4</td>\n",
       "      <td>0.0</td>\n",
       "      <td>19538.890</td>\n",
       "      <td>19988.365</td>\n",
       "      <td>19890.0</td>\n",
       "      <td>19890.0</td>\n",
       "      <td>20237.490</td>\n",
       "      <td>1197.271</td>\n",
       "      <td>1108.0</td>\n",
       "      <td>...</td>\n",
       "      <td>3873.69</td>\n",
       "      <td>44546.0</td>\n",
       "      <td>3990.472</td>\n",
       "      <td>7685.115</td>\n",
       "      <td>187.000</td>\n",
       "      <td>7872.0</td>\n",
       "      <td>115.0</td>\n",
       "      <td>385.0</td>\n",
       "      <td>85.8</td>\n",
       "      <td>43.7</td>\n",
       "    </tr>\n",
       "  </tbody>\n",
       "</table>\n",
       "<p>5 rows × 43 columns</p>\n",
       "</div>"
      ],
      "text/plain": [
       "   Unnamed: 0.1  Unnamed: 0  Original Res Forecast before Lockdown  \\\n",
       "0             0           0                                    0.0   \n",
       "1             1           1                                    0.0   \n",
       "2             2           2                                    0.0   \n",
       "3             3           3                                    0.0   \n",
       "4             4           4                                    0.0   \n",
       "\n",
       "   Residual Forecast  RSA Contracted Forecast  Dispatchable Generation  \\\n",
       "0          19904.967                20367.066                  20237.0   \n",
       "1          19553.899                19988.733                  19744.0   \n",
       "2          19314.284                19731.239                  19631.0   \n",
       "3          19342.679                19753.554                  19731.0   \n",
       "4          19538.890                19988.365                  19890.0   \n",
       "\n",
       "   Residual Demand  RSA Contracted Demand  International Exports  \\\n",
       "0          20237.0              20722.058               1215.902   \n",
       "1          19744.0              20188.493               1203.474   \n",
       "2          19631.0              20019.603               1177.571   \n",
       "3          19731.0              20079.454               1184.312   \n",
       "4          19890.0              20237.490               1197.271   \n",
       "\n",
       "   International Imports  ...  Total RE Installed Capacity  \\\n",
       "0                 1120.0  ...                      3873.69   \n",
       "1                 1106.0  ...                      3873.69   \n",
       "2                 1117.0  ...                      3873.69   \n",
       "3                 1118.0  ...                      3873.69   \n",
       "4                 1108.0  ...                      3873.69   \n",
       "\n",
       "   Installed Eskom Capacity  Total PCLF  Total UCLF  Total OCLF  \\\n",
       "0                   44546.0    3987.472    8028.710     275.907   \n",
       "1                   44546.0    3987.472    7727.302     244.907   \n",
       "2                   44546.0    3987.472    7704.704     193.727   \n",
       "3                   44546.0    3990.072    7702.868     187.000   \n",
       "4                   44546.0    3990.472    7685.115     187.000   \n",
       "\n",
       "   Total UCLF+OCLF  Non Comm Sentout  Drakensberg Gen Unit Hours  \\\n",
       "0           8304.0             617.0                       383.0   \n",
       "1           7972.0             209.0                       388.0   \n",
       "2           7898.0             431.0                       388.0   \n",
       "3           7889.0             868.0                       389.0   \n",
       "4           7872.0             115.0                       385.0   \n",
       "\n",
       "   Palmiet Gen Unit Hours  Ingula Gen Unit Hours  \n",
       "0                    81.8                   36.9  \n",
       "1                    83.0                   38.5  \n",
       "2                    83.8                   40.3  \n",
       "3                    85.0                   42.0  \n",
       "4                    85.8                   43.7  \n",
       "\n",
       "[5 rows x 43 columns]"
      ]
     },
     "execution_count": 8,
     "metadata": {},
     "output_type": "execute_result"
    }
   ],
   "source": [
    "newd_eskom.head()"
   ]
  },
  {
   "cell_type": "code",
   "execution_count": null,
   "metadata": {},
   "outputs": [],
   "source": []
  },
  {
   "cell_type": "code",
   "execution_count": 9,
   "metadata": {},
   "outputs": [],
   "source": [
    "# features = data.drop('Residual Demand', axis=1)\n",
    "# target = data['Residual Demand']\n",
    "X = newd_eskom.drop('Residual Demand', axis=1)\n",
    "y = newd_eskom['Residual Demand']"
   ]
  },
  {
   "cell_type": "code",
   "execution_count": 10,
   "metadata": {},
   "outputs": [],
   "source": [
    "# from sklearn.model_selection import train_test_splitfrom \n",
    "# sklearn.ensemble \n",
    "from sklearn.ensemble import RandomForestRegressor\n",
    "from sklearn.model_selection import train_test_split\n",
    "from sklearn.preprocessing import StandardScaler\n",
    "from sklearn.model_selection import train_test_split\n",
    "from sklearn.preprocessing import StandardScaler\n",
    "\n"
   ]
  },
  {
   "cell_type": "code",
   "execution_count": 11,
   "metadata": {},
   "outputs": [],
   "source": [
    "X_train, X_test, y_train, y_test = train_test_split(X, y, test_size=0.1, random_state=42)\n"
   ]
  },
  {
   "cell_type": "code",
   "execution_count": null,
   "metadata": {},
   "outputs": [],
   "source": []
  },
  {
   "cell_type": "code",
   "execution_count": 12,
   "metadata": {},
   "outputs": [],
   "source": [
    "# Scale train and test sets with StandardScaler\n",
    "X_train_std = StandardScaler().fit_transform(X_train)\n",
    "X_test_std = StandardScaler().fit_transform(X_test)"
   ]
  },
  {
   "cell_type": "code",
   "execution_count": 13,
   "metadata": {},
   "outputs": [],
   "source": [
    "# Fix the dimensions of the target array\n",
    "y_train = y_train.values.reshape(-1, 1)\n",
    "y_test = y_test.values.reshape(-1, 1)"
   ]
  },
  {
   "cell_type": "code",
   "execution_count": 17,
   "metadata": {},
   "outputs": [
    {
     "name": "stderr",
     "output_type": "stream",
     "text": [
      "/var/folders/hx/7bb8n2f56tjftd8xkz7kmswr0000gr/T/ipykernel_5021/2056019022.py:3: DataConversionWarning: A column-vector y was passed when a 1d array was expected. Please change the shape of y to (n_samples,), for example using ravel().\n",
      "  model.fit(X_train_std, y_train)\n"
     ]
    },
    {
     "name": "stdout",
     "output_type": "stream",
     "text": [
      "Model train score: 0.9999352448577791\n"
     ]
    }
   ],
   "source": [
    "# Train a linear regression model using only the selected columns\n",
    "model = RandomForestRegressor()\n",
    "model.fit(X_train_std, y_train)\n",
    "\n",
    "# Evaluate the model using the train set\n",
    "score = model.score(X_train_std, y_train)\n",
    "print(\"Model train score:\", score)\n",
    "\n"
   ]
  },
  {
   "cell_type": "code",
   "execution_count": 19,
   "metadata": {},
   "outputs": [
    {
     "name": "stdout",
     "output_type": "stream",
     "text": [
      "MSE: 526.3753025929092\n",
      "0.9999352448577791\n"
     ]
    }
   ],
   "source": [
    "from sklearn.metrics import mean_squared_error\n",
    "from sklearn.metrics import r2_score\n",
    "# Calculate the mean squared error (MSE) of the model on the train set\n",
    "y_pred_train = model.predict(X_train_std)\n",
    "mse = mean_squared_error(y_train, y_pred_train)\n",
    "r2_train=r2_score(y_train,y_pred_train)\n",
    "\n",
    "print(\"MSE:\", mse)\n",
    "print(r2_train)"
   ]
  },
  {
   "cell_type": "code",
   "execution_count": 16,
   "metadata": {},
   "outputs": [
    {
     "name": "stderr",
     "output_type": "stream",
     "text": [
      "/var/folders/hx/7bb8n2f56tjftd8xkz7kmswr0000gr/T/ipykernel_5021/2256959452.py:3: DataConversionWarning: A column-vector y was passed when a 1d array was expected. Please change the shape of y to (n_samples,), for example using ravel().\n",
      "  model.fit(X_train_std, y_train)\n"
     ]
    },
    {
     "data": {
      "text/plain": [
       "0.9992021237745923"
      ]
     },
     "execution_count": 16,
     "metadata": {},
     "output_type": "execute_result"
    }
   ],
   "source": [
    "# Init, fit, \n",
    "model = RandomForestRegressor()\n",
    "model.fit(X_train_std, y_train)\n",
    "model.score(X_test_std, y_test)"
   ]
  },
  {
   "cell_type": "code",
   "execution_count": 23,
   "metadata": {},
   "outputs": [
    {
     "name": "stderr",
     "output_type": "stream",
     "text": [
      "/var/folders/hx/7bb8n2f56tjftd8xkz7kmswr0000gr/T/ipykernel_5021/3322645376.py:3: DataConversionWarning: A column-vector y was passed when a 1d array was expected. Please change the shape of y to (n_samples,), for example using ravel().\n",
      "  model.fit(X_train_std, y_train)\n"
     ]
    },
    {
     "name": "stdout",
     "output_type": "stream",
     "text": [
      "Model score: 0.9992039300433413\n",
      "MSE: 6545.500377798793\n",
      "R2: 0.9992039300433413\n"
     ]
    }
   ],
   "source": [
    "\n",
    "# rain a linear regression model using only the selected columns\n",
    "model = RandomForestRegressor()\n",
    "model.fit(X_train_std, y_train)\n",
    "\n",
    "# Evaluate the model using the test set\n",
    "score = model.score(X_test_std, y_test)\n",
    "print(\"Model score:\", score)\n",
    "\n",
    "# Calculate the mean squared error (MSE) of the model on the test set\n",
    "y_pred_test = model.predict(X_test_std)\n",
    "mse = mean_squared_error(y_test, y_pred_test)\n",
    "r2_test=r2_score(y_test,y_pred_test)\n",
    "\n",
    "print(\"MSE:\", mse)\n",
    "print(\"R2:\", r2_test)"
   ]
  },
  {
   "cell_type": "code",
   "execution_count": 26,
   "metadata": {},
   "outputs": [
    {
     "data": {
      "text/plain": [
       "6019.125075205884"
      ]
     },
     "execution_count": 26,
     "metadata": {},
     "output_type": "execute_result"
    }
   ],
   "source": [
    "6545.500377798793 - 526.3753025929092\n"
   ]
  },
  {
   "cell_type": "code",
   "execution_count": 24,
   "metadata": {},
   "outputs": [
    {
     "data": {
      "text/html": [
       "<div>\n",
       "<style scoped>\n",
       "    .dataframe tbody tr th:only-of-type {\n",
       "        vertical-align: middle;\n",
       "    }\n",
       "\n",
       "    .dataframe tbody tr th {\n",
       "        vertical-align: top;\n",
       "    }\n",
       "\n",
       "    .dataframe thead th {\n",
       "        text-align: right;\n",
       "    }\n",
       "</style>\n",
       "<table border=\"1\" class=\"dataframe\">\n",
       "  <thead>\n",
       "    <tr style=\"text-align: right;\">\n",
       "      <th></th>\n",
       "      <th>feature</th>\n",
       "      <th>weight</th>\n",
       "    </tr>\n",
       "  </thead>\n",
       "  <tbody>\n",
       "    <tr>\n",
       "      <th>0</th>\n",
       "      <td>Hydro Water SCO</td>\n",
       "      <td>0.000000e+00</td>\n",
       "    </tr>\n",
       "    <tr>\n",
       "      <th>1</th>\n",
       "      <td>CSP Installed Capacity</td>\n",
       "      <td>2.606854e-07</td>\n",
       "    </tr>\n",
       "    <tr>\n",
       "      <th>2</th>\n",
       "      <td>Eskom Gas Generation</td>\n",
       "      <td>3.647980e-07</td>\n",
       "    </tr>\n",
       "    <tr>\n",
       "      <th>3</th>\n",
       "      <td>Other RE Installed Capacity</td>\n",
       "      <td>1.076370e-06</td>\n",
       "    </tr>\n",
       "    <tr>\n",
       "      <th>4</th>\n",
       "      <td>PV Installed Capacity</td>\n",
       "      <td>1.169866e-06</td>\n",
       "    </tr>\n",
       "    <tr>\n",
       "      <th>5</th>\n",
       "      <td>Eskom Gas SCO</td>\n",
       "      <td>1.361599e-06</td>\n",
       "    </tr>\n",
       "    <tr>\n",
       "      <th>6</th>\n",
       "      <td>Wind Installed Capacity</td>\n",
       "      <td>1.778044e-06</td>\n",
       "    </tr>\n",
       "    <tr>\n",
       "      <th>7</th>\n",
       "      <td>Total RE Installed Capacity</td>\n",
       "      <td>2.569283e-06</td>\n",
       "    </tr>\n",
       "    <tr>\n",
       "      <th>8</th>\n",
       "      <td>Installed Eskom Capacity</td>\n",
       "      <td>3.411653e-06</td>\n",
       "    </tr>\n",
       "    <tr>\n",
       "      <th>9</th>\n",
       "      <td>Dispatchable IPP OCGT</td>\n",
       "      <td>8.255492e-06</td>\n",
       "    </tr>\n",
       "    <tr>\n",
       "      <th>10</th>\n",
       "      <td>Eskom OCGT Generation</td>\n",
       "      <td>8.519589e-06</td>\n",
       "    </tr>\n",
       "    <tr>\n",
       "      <th>11</th>\n",
       "      <td>Hydro Water Generation</td>\n",
       "      <td>9.765413e-06</td>\n",
       "    </tr>\n",
       "    <tr>\n",
       "      <th>12</th>\n",
       "      <td>Drakensberg Gen Unit Hours</td>\n",
       "      <td>9.934094e-06</td>\n",
       "    </tr>\n",
       "    <tr>\n",
       "      <th>13</th>\n",
       "      <td>Eskom OCGT SCO</td>\n",
       "      <td>1.008689e-05</td>\n",
       "    </tr>\n",
       "    <tr>\n",
       "      <th>14</th>\n",
       "      <td>Pumped Water Generation</td>\n",
       "      <td>1.148346e-05</td>\n",
       "    </tr>\n",
       "    <tr>\n",
       "      <th>15</th>\n",
       "      <td>Unnamed: 0.1</td>\n",
       "      <td>1.160600e-05</td>\n",
       "    </tr>\n",
       "    <tr>\n",
       "      <th>16</th>\n",
       "      <td>Total UCLF</td>\n",
       "      <td>1.190479e-05</td>\n",
       "    </tr>\n",
       "    <tr>\n",
       "      <th>17</th>\n",
       "      <td>Total UCLF+OCLF</td>\n",
       "      <td>1.219304e-05</td>\n",
       "    </tr>\n",
       "    <tr>\n",
       "      <th>18</th>\n",
       "      <td>Unnamed: 0</td>\n",
       "      <td>1.248057e-05</td>\n",
       "    </tr>\n",
       "    <tr>\n",
       "      <th>19</th>\n",
       "      <td>PV</td>\n",
       "      <td>1.257686e-05</td>\n",
       "    </tr>\n",
       "    <tr>\n",
       "      <th>20</th>\n",
       "      <td>Pumped Water SCO Pumping</td>\n",
       "      <td>1.264406e-05</td>\n",
       "    </tr>\n",
       "    <tr>\n",
       "      <th>21</th>\n",
       "      <td>Original Res Forecast before Lockdown</td>\n",
       "      <td>1.369133e-05</td>\n",
       "    </tr>\n",
       "    <tr>\n",
       "      <th>22</th>\n",
       "      <td>Nuclear Generation</td>\n",
       "      <td>1.374996e-05</td>\n",
       "    </tr>\n",
       "    <tr>\n",
       "      <th>23</th>\n",
       "      <td>Total PCLF</td>\n",
       "      <td>1.391473e-05</td>\n",
       "    </tr>\n",
       "    <tr>\n",
       "      <th>24</th>\n",
       "      <td>CSP</td>\n",
       "      <td>1.431831e-05</td>\n",
       "    </tr>\n",
       "    <tr>\n",
       "      <th>25</th>\n",
       "      <td>Non Comm Sentout</td>\n",
       "      <td>1.442077e-05</td>\n",
       "    </tr>\n",
       "    <tr>\n",
       "      <th>26</th>\n",
       "      <td>Ingula Gen Unit Hours</td>\n",
       "      <td>1.830483e-05</td>\n",
       "    </tr>\n",
       "    <tr>\n",
       "      <th>27</th>\n",
       "      <td>Other RE</td>\n",
       "      <td>1.856793e-05</td>\n",
       "    </tr>\n",
       "    <tr>\n",
       "      <th>28</th>\n",
       "      <td>International Exports</td>\n",
       "      <td>1.937841e-05</td>\n",
       "    </tr>\n",
       "    <tr>\n",
       "      <th>29</th>\n",
       "      <td>Palmiet Gen Unit Hours</td>\n",
       "      <td>1.947621e-05</td>\n",
       "    </tr>\n",
       "    <tr>\n",
       "      <th>30</th>\n",
       "      <td>International Imports</td>\n",
       "      <td>2.036298e-05</td>\n",
       "    </tr>\n",
       "    <tr>\n",
       "      <th>31</th>\n",
       "      <td>Total OCLF</td>\n",
       "      <td>2.161040e-05</td>\n",
       "    </tr>\n",
       "    <tr>\n",
       "      <th>32</th>\n",
       "      <td>Thermal Generation</td>\n",
       "      <td>2.203330e-05</td>\n",
       "    </tr>\n",
       "    <tr>\n",
       "      <th>33</th>\n",
       "      <td>RSA Contracted Forecast</td>\n",
       "      <td>3.639552e-05</td>\n",
       "    </tr>\n",
       "    <tr>\n",
       "      <th>34</th>\n",
       "      <td>Wind</td>\n",
       "      <td>4.766463e-05</td>\n",
       "    </tr>\n",
       "    <tr>\n",
       "      <th>35</th>\n",
       "      <td>ILS Usage</td>\n",
       "      <td>8.282118e-05</td>\n",
       "    </tr>\n",
       "    <tr>\n",
       "      <th>36</th>\n",
       "      <td>IOS Excl ILS and MLR</td>\n",
       "      <td>4.067218e-04</td>\n",
       "    </tr>\n",
       "    <tr>\n",
       "      <th>37</th>\n",
       "      <td>Total RE</td>\n",
       "      <td>4.355947e-04</td>\n",
       "    </tr>\n",
       "    <tr>\n",
       "      <th>38</th>\n",
       "      <td>RSA Contracted Demand</td>\n",
       "      <td>1.347861e-02</td>\n",
       "    </tr>\n",
       "    <tr>\n",
       "      <th>39</th>\n",
       "      <td>Manual Load_Reduction(MLR)</td>\n",
       "      <td>2.462118e-02</td>\n",
       "    </tr>\n",
       "    <tr>\n",
       "      <th>40</th>\n",
       "      <td>Residual Forecast</td>\n",
       "      <td>8.629569e-02</td>\n",
       "    </tr>\n",
       "    <tr>\n",
       "      <th>41</th>\n",
       "      <td>Dispatchable Generation</td>\n",
       "      <td>8.742421e-01</td>\n",
       "    </tr>\n",
       "  </tbody>\n",
       "</table>\n",
       "</div>"
      ],
      "text/plain": [
       "                                  feature        weight\n",
       "0                         Hydro Water SCO  0.000000e+00\n",
       "1                  CSP Installed Capacity  2.606854e-07\n",
       "2                    Eskom Gas Generation  3.647980e-07\n",
       "3             Other RE Installed Capacity  1.076370e-06\n",
       "4                   PV Installed Capacity  1.169866e-06\n",
       "5                           Eskom Gas SCO  1.361599e-06\n",
       "6                 Wind Installed Capacity  1.778044e-06\n",
       "7             Total RE Installed Capacity  2.569283e-06\n",
       "8                Installed Eskom Capacity  3.411653e-06\n",
       "9                   Dispatchable IPP OCGT  8.255492e-06\n",
       "10                  Eskom OCGT Generation  8.519589e-06\n",
       "11                 Hydro Water Generation  9.765413e-06\n",
       "12             Drakensberg Gen Unit Hours  9.934094e-06\n",
       "13                         Eskom OCGT SCO  1.008689e-05\n",
       "14                Pumped Water Generation  1.148346e-05\n",
       "15                           Unnamed: 0.1  1.160600e-05\n",
       "16                             Total UCLF  1.190479e-05\n",
       "17                        Total UCLF+OCLF  1.219304e-05\n",
       "18                             Unnamed: 0  1.248057e-05\n",
       "19                                     PV  1.257686e-05\n",
       "20               Pumped Water SCO Pumping  1.264406e-05\n",
       "21  Original Res Forecast before Lockdown  1.369133e-05\n",
       "22                     Nuclear Generation  1.374996e-05\n",
       "23                             Total PCLF  1.391473e-05\n",
       "24                                    CSP  1.431831e-05\n",
       "25                       Non Comm Sentout  1.442077e-05\n",
       "26                  Ingula Gen Unit Hours  1.830483e-05\n",
       "27                               Other RE  1.856793e-05\n",
       "28                  International Exports  1.937841e-05\n",
       "29                 Palmiet Gen Unit Hours  1.947621e-05\n",
       "30                  International Imports  2.036298e-05\n",
       "31                             Total OCLF  2.161040e-05\n",
       "32                     Thermal Generation  2.203330e-05\n",
       "33                RSA Contracted Forecast  3.639552e-05\n",
       "34                                   Wind  4.766463e-05\n",
       "35                              ILS Usage  8.282118e-05\n",
       "36                   IOS Excl ILS and MLR  4.067218e-04\n",
       "37                               Total RE  4.355947e-04\n",
       "38                  RSA Contracted Demand  1.347861e-02\n",
       "39             Manual Load_Reduction(MLR)  2.462118e-02\n",
       "40                      Residual Forecast  8.629569e-02\n",
       "41                Dispatchable Generation  8.742421e-01"
      ]
     },
     "execution_count": 24,
     "metadata": {},
     "output_type": "execute_result"
    }
   ],
   "source": [
    "pd.DataFrame(\n",
    "    zip(X_train.columns, abs(model.feature_importances_)),\n",
    "    columns=[\"feature\", \"weight\"],\n",
    ").sort_values(\"weight\").reset_index(drop=True)"
   ]
  },
  {
   "cell_type": "code",
   "execution_count": 28,
   "metadata": {},
   "outputs": [
    {
     "name": "stderr",
     "output_type": "stream",
     "text": [
      "/Users/ds_learner51/opt/anaconda3/lib/python3.9/site-packages/sklearn/feature_selection/_rfe.py:283: DataConversionWarning: A column-vector y was passed when a 1d array was expected. Please change the shape of y to (n_samples,), for example using ravel().\n",
      "  estimator.fit(X[:, features], y, **fit_params)\n",
      "/Users/ds_learner51/opt/anaconda3/lib/python3.9/site-packages/sklearn/feature_selection/_rfe.py:283: DataConversionWarning: A column-vector y was passed when a 1d array was expected. Please change the shape of y to (n_samples,), for example using ravel().\n",
      "  estimator.fit(X[:, features], y, **fit_params)\n",
      "/Users/ds_learner51/opt/anaconda3/lib/python3.9/site-packages/sklearn/feature_selection/_rfe.py:283: DataConversionWarning: A column-vector y was passed when a 1d array was expected. Please change the shape of y to (n_samples,), for example using ravel().\n",
      "  estimator.fit(X[:, features], y, **fit_params)\n",
      "/Users/ds_learner51/opt/anaconda3/lib/python3.9/site-packages/sklearn/feature_selection/_rfe.py:283: DataConversionWarning: A column-vector y was passed when a 1d array was expected. Please change the shape of y to (n_samples,), for example using ravel().\n",
      "  estimator.fit(X[:, features], y, **fit_params)\n"
     ]
    }
   ],
   "source": [
    "from sklearn.feature_selection import RFE\n",
    "\n",
    "\n",
    "# Init the transformer\n",
    "rfe = RFE(estimator=RandomForestRegressor(), n_features_to_select=10)\n",
    "\n",
    "# Fit to the training data\n",
    "rfe.fit(X_train_std, y_train)"
   ]
  },
  {
   "cell_type": "code",
   "execution_count": null,
   "metadata": {},
   "outputs": [],
   "source": [
    "X_train.loc[:, rfe.support_]\n"
   ]
  },
  {
   "cell_type": "code",
   "execution_count": null,
   "metadata": {},
   "outputs": [],
   "source": [
    "# Init, fit, score\n",
    "forest = RandomForestRegressor()\n",
    "forest.fit(rfe.transform(X_train_std), y_train)\n",
    "forest.score(rfe.transform(X_test_std), y_test)"
   ]
  },
  {
   "cell_type": "code",
   "execution_count": null,
   "metadata": {},
   "outputs": [],
   "source": [
    "# Init the transformer\n",
    "rfe = RFE(estimator=RandomForestRegressor(), \n",
    "          n_features_to_select=10, step=10)\n",
    "_ = rfe.fit(X_train_std, y_train)\n",
    "\n",
    "print(X_train.columns[rfe.support_])"
   ]
  },
  {
   "cell_type": "markdown",
   "metadata": {},
   "source": [
    "Choosing the number of features to keep automatically\n"
   ]
  },
  {
   "cell_type": "code",
   "execution_count": null,
   "metadata": {},
   "outputs": [],
   "source": [
    "from sklearn.feature_selection import RFECV\n",
    "from sklearn.linear_model import LinearRegression\n",
    "\n",
    "# Init, fit\n",
    "rfecv = RFECV(\n",
    "    estimator=LinearRegression(),\n",
    "    min_features_to_select=5,\n",
    "    step=5,\n",
    "    n_jobs=-1,\n",
    "    scoring=\"r2\",\n",
    "    cv=5,\n",
    ")\n",
    "\n",
    "_ = rfecv.fit(X_train_std, y_train)"
   ]
  },
  {
   "cell_type": "code",
   "execution_count": null,
   "metadata": {},
   "outputs": [],
   "source": [
    "X_train.columns[rfecv.support_]"
   ]
  },
  {
   "cell_type": "markdown",
   "metadata": {},
   "source": [
    "RFECV tells us to keep only 5 out of 98. Let's train the model only on those 5 and look at its performance:"
   ]
  },
  {
   "cell_type": "code",
   "execution_count": null,
   "metadata": {},
   "outputs": [],
   "source": [
    "lr = LinearRegression()\n",
    "_ = lr.fit(X_train_std, y_train)\n",
    "\n",
    "print(\"Trainign R-sqaured:\", lr.score(X_train_std, y_train))\n",
    "print(\"Testing R-squared:\",lr.score(X_test_std, y_test))"
   ]
  },
  {
   "cell_type": "code",
   "execution_count": null,
   "metadata": {},
   "outputs": [],
   "source": []
  },
  {
   "cell_type": "code",
   "execution_count": null,
   "metadata": {},
   "outputs": [],
   "source": []
  },
  {
   "cell_type": "code",
   "execution_count": null,
   "metadata": {},
   "outputs": [],
   "source": []
  },
  {
   "cell_type": "code",
   "execution_count": null,
   "metadata": {},
   "outputs": [],
   "source": []
  },
  {
   "cell_type": "code",
   "execution_count": null,
   "metadata": {},
   "outputs": [],
   "source": []
  },
  {
   "cell_type": "code",
   "execution_count": null,
   "metadata": {},
   "outputs": [],
   "source": []
  },
  {
   "cell_type": "code",
   "execution_count": null,
   "metadata": {},
   "outputs": [],
   "source": [
    "model = LinearRegression()\n",
    "rfe = RFE(model, n_features_to_select=5)"
   ]
  },
  {
   "cell_type": "code",
   "execution_count": null,
   "metadata": {},
   "outputs": [],
   "source": [
    "rfe.fit(X, y)\n"
   ]
  },
  {
   "cell_type": "code",
   "execution_count": null,
   "metadata": {},
   "outputs": [],
   "source": []
  },
  {
   "cell_type": "code",
   "execution_count": null,
   "metadata": {},
   "outputs": [],
   "source": []
  },
  {
   "cell_type": "code",
   "execution_count": null,
   "metadata": {},
   "outputs": [],
   "source": []
  },
  {
   "cell_type": "code",
   "execution_count": null,
   "metadata": {},
   "outputs": [],
   "source": []
  },
  {
   "cell_type": "code",
   "execution_count": null,
   "metadata": {},
   "outputs": [],
   "source": []
  },
  {
   "cell_type": "code",
   "execution_count": null,
   "metadata": {},
   "outputs": [],
   "source": [
    "import pandas as pd\n",
    "from sklearn.feature_selection import RFE\n",
    "from sklearn.linear_model import LinearRegression\n",
    "\n",
    "data = pd.read_csv('data.csv')\n",
    "X = data.drop('target_variable', axis=1)\n",
    "y = data['target_variable']\n"
   ]
  }
 ],
 "metadata": {
  "kernelspec": {
   "display_name": "Python 3.9.13 ('base')",
   "language": "python",
   "name": "python3"
  },
  "language_info": {
   "codemirror_mode": {
    "name": "ipython",
    "version": 3
   },
   "file_extension": ".py",
   "mimetype": "text/x-python",
   "name": "python",
   "nbconvert_exporter": "python",
   "pygments_lexer": "ipython3",
   "version": "3.9.13"
  },
  "orig_nbformat": 4,
  "vscode": {
   "interpreter": {
    "hash": "19d3a9b6b603b937e6ddf1e2eb2906c9e85f7c7b747cd381a74f4a61c209c0e0"
   }
  }
 },
 "nbformat": 4,
 "nbformat_minor": 2
}
