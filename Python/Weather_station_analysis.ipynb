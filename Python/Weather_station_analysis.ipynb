{
 "cells": [
  {
   "cell_type": "code",
   "execution_count": 172,
   "id": "605b3b3f",
   "metadata": {},
   "outputs": [
    {
     "data": {
      "text/html": [
       "<div>\n",
       "<style scoped>\n",
       "    .dataframe tbody tr th:only-of-type {\n",
       "        vertical-align: middle;\n",
       "    }\n",
       "\n",
       "    .dataframe tbody tr th {\n",
       "        vertical-align: top;\n",
       "    }\n",
       "\n",
       "    .dataframe thead th {\n",
       "        text-align: right;\n",
       "    }\n",
       "</style>\n",
       "<table border=\"1\" class=\"dataframe\">\n",
       "  <thead>\n",
       "    <tr style=\"text-align: right;\">\n",
       "      <th></th>\n",
       "      <th>STATION</th>\n",
       "      <th>NAME</th>\n",
       "      <th>LATITUDE</th>\n",
       "      <th>LONGITUDE</th>\n",
       "      <th>ELEVATION</th>\n",
       "      <th>DATE</th>\n",
       "      <th>PRCP</th>\n",
       "      <th>PRCP_ATTRIBUTES</th>\n",
       "      <th>TAVG</th>\n",
       "      <th>TAVG_ATTRIBUTES</th>\n",
       "      <th>TMAX</th>\n",
       "      <th>TMAX_ATTRIBUTES</th>\n",
       "      <th>TMIN</th>\n",
       "      <th>TMIN_ATTRIBUTES</th>\n",
       "    </tr>\n",
       "  </thead>\n",
       "  <tbody>\n",
       "    <tr>\n",
       "      <th>0</th>\n",
       "      <td>SF001447910</td>\n",
       "      <td>NOUPOORT, SF</td>\n",
       "      <td>-31.183</td>\n",
       "      <td>24.95</td>\n",
       "      <td>1496.0</td>\n",
       "      <td>2022-07-01</td>\n",
       "      <td>NaN</td>\n",
       "      <td>NaN</td>\n",
       "      <td>8.8</td>\n",
       "      <td>H,,S</td>\n",
       "      <td>16.0</td>\n",
       "      <td>,,S</td>\n",
       "      <td>-1.7</td>\n",
       "      <td>,,S</td>\n",
       "    </tr>\n",
       "    <tr>\n",
       "      <th>1</th>\n",
       "      <td>SF001447910</td>\n",
       "      <td>NOUPOORT, SF</td>\n",
       "      <td>-31.183</td>\n",
       "      <td>24.95</td>\n",
       "      <td>1496.0</td>\n",
       "      <td>2022-07-02</td>\n",
       "      <td>NaN</td>\n",
       "      <td>NaN</td>\n",
       "      <td>11.1</td>\n",
       "      <td>H,,S</td>\n",
       "      <td>17.4</td>\n",
       "      <td>,,S</td>\n",
       "      <td>3.5</td>\n",
       "      <td>,,S</td>\n",
       "    </tr>\n",
       "    <tr>\n",
       "      <th>2</th>\n",
       "      <td>SF001447910</td>\n",
       "      <td>NOUPOORT, SF</td>\n",
       "      <td>-31.183</td>\n",
       "      <td>24.95</td>\n",
       "      <td>1496.0</td>\n",
       "      <td>2022-07-03</td>\n",
       "      <td>NaN</td>\n",
       "      <td>NaN</td>\n",
       "      <td>11.6</td>\n",
       "      <td>H,,S</td>\n",
       "      <td>18.3</td>\n",
       "      <td>,,S</td>\n",
       "      <td>6.8</td>\n",
       "      <td>,,S</td>\n",
       "    </tr>\n",
       "    <tr>\n",
       "      <th>3</th>\n",
       "      <td>SF001447910</td>\n",
       "      <td>NOUPOORT, SF</td>\n",
       "      <td>-31.183</td>\n",
       "      <td>24.95</td>\n",
       "      <td>1496.0</td>\n",
       "      <td>2022-07-04</td>\n",
       "      <td>NaN</td>\n",
       "      <td>NaN</td>\n",
       "      <td>9.3</td>\n",
       "      <td>H,,S</td>\n",
       "      <td>19.0</td>\n",
       "      <td>,,S</td>\n",
       "      <td>0.8</td>\n",
       "      <td>,,S</td>\n",
       "    </tr>\n",
       "    <tr>\n",
       "      <th>4</th>\n",
       "      <td>SF001447910</td>\n",
       "      <td>NOUPOORT, SF</td>\n",
       "      <td>-31.183</td>\n",
       "      <td>24.95</td>\n",
       "      <td>1496.0</td>\n",
       "      <td>2022-07-05</td>\n",
       "      <td>NaN</td>\n",
       "      <td>NaN</td>\n",
       "      <td>10.4</td>\n",
       "      <td>H,,S</td>\n",
       "      <td>19.0</td>\n",
       "      <td>,,S</td>\n",
       "      <td>7.3</td>\n",
       "      <td>,,S</td>\n",
       "    </tr>\n",
       "  </tbody>\n",
       "</table>\n",
       "</div>"
      ],
      "text/plain": [
       "       STATION          NAME  LATITUDE  LONGITUDE  ELEVATION        DATE  \\\n",
       "0  SF001447910  NOUPOORT, SF   -31.183      24.95     1496.0  2022-07-01   \n",
       "1  SF001447910  NOUPOORT, SF   -31.183      24.95     1496.0  2022-07-02   \n",
       "2  SF001447910  NOUPOORT, SF   -31.183      24.95     1496.0  2022-07-03   \n",
       "3  SF001447910  NOUPOORT, SF   -31.183      24.95     1496.0  2022-07-04   \n",
       "4  SF001447910  NOUPOORT, SF   -31.183      24.95     1496.0  2022-07-05   \n",
       "\n",
       "   PRCP PRCP_ATTRIBUTES  TAVG TAVG_ATTRIBUTES  TMAX TMAX_ATTRIBUTES  TMIN  \\\n",
       "0   NaN             NaN   8.8            H,,S  16.0             ,,S  -1.7   \n",
       "1   NaN             NaN  11.1            H,,S  17.4             ,,S   3.5   \n",
       "2   NaN             NaN  11.6            H,,S  18.3             ,,S   6.8   \n",
       "3   NaN             NaN   9.3            H,,S  19.0             ,,S   0.8   \n",
       "4   NaN             NaN  10.4            H,,S  19.0             ,,S   7.3   \n",
       "\n",
       "  TMIN_ATTRIBUTES  \n",
       "0             ,,S  \n",
       "1             ,,S  \n",
       "2             ,,S  \n",
       "3             ,,S  \n",
       "4             ,,S  "
      ]
     },
     "execution_count": 172,
     "metadata": {},
     "output_type": "execute_result"
    }
   ],
   "source": [
    "import numpy as np\n",
    "import pandas as pd\n",
    "import matplotlib.pyplot as plt\n",
    "import seaborn as sns\n",
    "\n",
    "df=pd.read_csv('station_weather_data.csv')\n",
    "df.head()"
   ]
  },
  {
   "cell_type": "markdown",
   "id": "cea86191",
   "metadata": {},
   "source": [
    "**Showing the number of columns and rows**"
   ]
  },
  {
   "cell_type": "code",
   "execution_count": 173,
   "id": "54ca24ca",
   "metadata": {},
   "outputs": [
    {
     "data": {
      "text/plain": [
       "(12444, 14)"
      ]
     },
     "execution_count": 173,
     "metadata": {},
     "output_type": "execute_result"
    }
   ],
   "source": [
    "df.shape"
   ]
  },
  {
   "cell_type": "markdown",
   "id": "ea1c3153",
   "metadata": {},
   "source": [
    "**Counting the number of column entries**"
   ]
  },
  {
   "cell_type": "code",
   "execution_count": 174,
   "id": "73ad7ec3",
   "metadata": {},
   "outputs": [
    {
     "data": {
      "text/plain": [
       "STATION            12444\n",
       "NAME               12444\n",
       "LATITUDE           12444\n",
       "LONGITUDE          12444\n",
       "ELEVATION          12444\n",
       "DATE               12444\n",
       "PRCP                3873\n",
       "PRCP_ATTRIBUTES     3873\n",
       "TAVG               12444\n",
       "TAVG_ATTRIBUTES    12444\n",
       "TMAX               11628\n",
       "TMAX_ATTRIBUTES    11628\n",
       "TMIN               11510\n",
       "TMIN_ATTRIBUTES    11510\n",
       "dtype: int64"
      ]
     },
     "execution_count": 174,
     "metadata": {},
     "output_type": "execute_result"
    }
   ],
   "source": [
    "df.count()"
   ]
  },
  {
   "cell_type": "markdown",
   "id": "456ab72b",
   "metadata": {},
   "source": [
    "**Showing the summarized information about the data set**"
   ]
  },
  {
   "cell_type": "code",
   "execution_count": 175,
   "id": "de69e6e7",
   "metadata": {},
   "outputs": [
    {
     "name": "stdout",
     "output_type": "stream",
     "text": [
      "<class 'pandas.core.frame.DataFrame'>\n",
      "RangeIndex: 12444 entries, 0 to 12443\n",
      "Data columns (total 14 columns):\n",
      " #   Column           Non-Null Count  Dtype  \n",
      "---  ------           --------------  -----  \n",
      " 0   STATION          12444 non-null  object \n",
      " 1   NAME             12444 non-null  object \n",
      " 2   LATITUDE         12444 non-null  float64\n",
      " 3   LONGITUDE        12444 non-null  float64\n",
      " 4   ELEVATION        12444 non-null  float64\n",
      " 5   DATE             12444 non-null  object \n",
      " 6   PRCP             3873 non-null   float64\n",
      " 7   PRCP_ATTRIBUTES  3873 non-null   object \n",
      " 8   TAVG             12444 non-null  float64\n",
      " 9   TAVG_ATTRIBUTES  12444 non-null  object \n",
      " 10  TMAX             11628 non-null  float64\n",
      " 11  TMAX_ATTRIBUTES  11628 non-null  object \n",
      " 12  TMIN             11510 non-null  float64\n",
      " 13  TMIN_ATTRIBUTES  11510 non-null  object \n",
      "dtypes: float64(7), object(7)\n",
      "memory usage: 1.3+ MB\n"
     ]
    }
   ],
   "source": [
    "df.info()"
   ]
  },
  {
   "cell_type": "markdown",
   "id": "148db31f",
   "metadata": {},
   "source": [
    "**Showing the description of the data set**"
   ]
  },
  {
   "cell_type": "code",
   "execution_count": 176,
   "id": "77072bf9",
   "metadata": {},
   "outputs": [
    {
     "data": {
      "text/html": [
       "<div>\n",
       "<style scoped>\n",
       "    .dataframe tbody tr th:only-of-type {\n",
       "        vertical-align: middle;\n",
       "    }\n",
       "\n",
       "    .dataframe tbody tr th {\n",
       "        vertical-align: top;\n",
       "    }\n",
       "\n",
       "    .dataframe thead th {\n",
       "        text-align: right;\n",
       "    }\n",
       "</style>\n",
       "<table border=\"1\" class=\"dataframe\">\n",
       "  <thead>\n",
       "    <tr style=\"text-align: right;\">\n",
       "      <th></th>\n",
       "      <th>LATITUDE</th>\n",
       "      <th>LONGITUDE</th>\n",
       "      <th>ELEVATION</th>\n",
       "      <th>PRCP</th>\n",
       "      <th>TAVG</th>\n",
       "      <th>TMAX</th>\n",
       "      <th>TMIN</th>\n",
       "    </tr>\n",
       "  </thead>\n",
       "  <tbody>\n",
       "    <tr>\n",
       "      <th>count</th>\n",
       "      <td>12444.000000</td>\n",
       "      <td>12444.00000</td>\n",
       "      <td>12444.000000</td>\n",
       "      <td>3873.000000</td>\n",
       "      <td>12444.000000</td>\n",
       "      <td>11628.000000</td>\n",
       "      <td>11510.000000</td>\n",
       "    </tr>\n",
       "    <tr>\n",
       "      <th>mean</th>\n",
       "      <td>-30.873279</td>\n",
       "      <td>25.35840</td>\n",
       "      <td>781.964167</td>\n",
       "      <td>4.126310</td>\n",
       "      <td>18.369254</td>\n",
       "      <td>26.730590</td>\n",
       "      <td>11.606308</td>\n",
       "    </tr>\n",
       "    <tr>\n",
       "      <th>std</th>\n",
       "      <td>3.561712</td>\n",
       "      <td>4.41921</td>\n",
       "      <td>594.614496</td>\n",
       "      <td>8.995586</td>\n",
       "      <td>5.572877</td>\n",
       "      <td>6.373916</td>\n",
       "      <td>5.799222</td>\n",
       "    </tr>\n",
       "    <tr>\n",
       "      <th>min</th>\n",
       "      <td>-46.883000</td>\n",
       "      <td>17.60000</td>\n",
       "      <td>10.100000</td>\n",
       "      <td>0.000000</td>\n",
       "      <td>0.100000</td>\n",
       "      <td>2.500000</td>\n",
       "      <td>-7.100000</td>\n",
       "    </tr>\n",
       "    <tr>\n",
       "      <th>25%</th>\n",
       "      <td>-33.200000</td>\n",
       "      <td>21.51700</td>\n",
       "      <td>154.000000</td>\n",
       "      <td>0.000000</td>\n",
       "      <td>14.600000</td>\n",
       "      <td>22.500000</td>\n",
       "      <td>7.900000</td>\n",
       "    </tr>\n",
       "    <tr>\n",
       "      <th>50%</th>\n",
       "      <td>-30.850000</td>\n",
       "      <td>25.61700</td>\n",
       "      <td>842.000000</td>\n",
       "      <td>0.500000</td>\n",
       "      <td>18.900000</td>\n",
       "      <td>27.200000</td>\n",
       "      <td>12.400000</td>\n",
       "    </tr>\n",
       "    <tr>\n",
       "      <th>75%</th>\n",
       "      <td>-28.450000</td>\n",
       "      <td>27.90000</td>\n",
       "      <td>1321.000000</td>\n",
       "      <td>4.100000</td>\n",
       "      <td>22.300000</td>\n",
       "      <td>31.200000</td>\n",
       "      <td>15.700000</td>\n",
       "    </tr>\n",
       "    <tr>\n",
       "      <th>max</th>\n",
       "      <td>-24.983000</td>\n",
       "      <td>37.86700</td>\n",
       "      <td>1819.000000</td>\n",
       "      <td>105.900000</td>\n",
       "      <td>35.900000</td>\n",
       "      <td>46.900000</td>\n",
       "      <td>30.400000</td>\n",
       "    </tr>\n",
       "  </tbody>\n",
       "</table>\n",
       "</div>"
      ],
      "text/plain": [
       "           LATITUDE    LONGITUDE     ELEVATION         PRCP          TAVG  \\\n",
       "count  12444.000000  12444.00000  12444.000000  3873.000000  12444.000000   \n",
       "mean     -30.873279     25.35840    781.964167     4.126310     18.369254   \n",
       "std        3.561712      4.41921    594.614496     8.995586      5.572877   \n",
       "min      -46.883000     17.60000     10.100000     0.000000      0.100000   \n",
       "25%      -33.200000     21.51700    154.000000     0.000000     14.600000   \n",
       "50%      -30.850000     25.61700    842.000000     0.500000     18.900000   \n",
       "75%      -28.450000     27.90000   1321.000000     4.100000     22.300000   \n",
       "max      -24.983000     37.86700   1819.000000   105.900000     35.900000   \n",
       "\n",
       "               TMAX          TMIN  \n",
       "count  11628.000000  11510.000000  \n",
       "mean      26.730590     11.606308  \n",
       "std        6.373916      5.799222  \n",
       "min        2.500000     -7.100000  \n",
       "25%       22.500000      7.900000  \n",
       "50%       27.200000     12.400000  \n",
       "75%       31.200000     15.700000  \n",
       "max       46.900000     30.400000  "
      ]
     },
     "execution_count": 176,
     "metadata": {},
     "output_type": "execute_result"
    }
   ],
   "source": [
    "df.describe()"
   ]
  },
  {
   "cell_type": "markdown",
   "id": "16870cd0",
   "metadata": {},
   "source": [
    "**Checking for the number of duplicates in the data set**"
   ]
  },
  {
   "cell_type": "code",
   "execution_count": 177,
   "id": "56da31fc",
   "metadata": {},
   "outputs": [
    {
     "name": "stdout",
     "output_type": "stream",
     "text": [
      "The number of duplicates in the DataFrame is: 0\n"
     ]
    }
   ],
   "source": [
    "# check for duplicates across all columns\n",
    "duplicates = df.duplicated()\n",
    "\n",
    "print(f\"The number of duplicates in the DataFrame is: {duplicates.sum()}\")"
   ]
  },
  {
   "cell_type": "code",
   "execution_count": 178,
   "id": "405ae5ff",
   "metadata": {},
   "outputs": [
    {
     "data": {
      "text/plain": [
       "Index(['STATION', 'NAME', 'LATITUDE', 'LONGITUDE', 'ELEVATION', 'DATE', 'PRCP',\n",
       "       'PRCP_ATTRIBUTES', 'TAVG', 'TAVG_ATTRIBUTES', 'TMAX', 'TMAX_ATTRIBUTES',\n",
       "       'TMIN', 'TMIN_ATTRIBUTES'],\n",
       "      dtype='object')"
      ]
     },
     "execution_count": 178,
     "metadata": {},
     "output_type": "execute_result"
    }
   ],
   "source": [
    "df.columns"
   ]
  },
  {
   "cell_type": "code",
   "execution_count": 179,
   "id": "42a9ddf6",
   "metadata": {},
   "outputs": [
    {
     "data": {
      "text/plain": [
       "STATION             object\n",
       "NAME                object\n",
       "LATITUDE           float64\n",
       "LONGITUDE          float64\n",
       "ELEVATION          float64\n",
       "DATE                object\n",
       "PRCP               float64\n",
       "PRCP_ATTRIBUTES     object\n",
       "TAVG               float64\n",
       "TAVG_ATTRIBUTES     object\n",
       "TMAX               float64\n",
       "TMAX_ATTRIBUTES     object\n",
       "TMIN               float64\n",
       "TMIN_ATTRIBUTES     object\n",
       "dtype: object"
      ]
     },
     "execution_count": 179,
     "metadata": {},
     "output_type": "execute_result"
    }
   ],
   "source": [
    "#Checking for datatype \n",
    "\n",
    "df.dtypes"
   ]
  },
  {
   "cell_type": "code",
   "execution_count": 180,
   "id": "6e11954f",
   "metadata": {},
   "outputs": [
    {
     "data": {
      "text/plain": [
       "STATION            12444\n",
       "NAME               12444\n",
       "LATITUDE           12444\n",
       "LONGITUDE          12444\n",
       "ELEVATION          12444\n",
       "DATE               12444\n",
       "PRCP                3873\n",
       "PRCP_ATTRIBUTES     3873\n",
       "TAVG               12444\n",
       "TAVG_ATTRIBUTES    12444\n",
       "TMAX               11628\n",
       "TMAX_ATTRIBUTES    11628\n",
       "TMIN               11510\n",
       "TMIN_ATTRIBUTES    11510\n",
       "dtype: int64"
      ]
     },
     "execution_count": 180,
     "metadata": {},
     "output_type": "execute_result"
    }
   ],
   "source": [
    "df.count()"
   ]
  },
  {
   "cell_type": "code",
   "execution_count": 181,
   "id": "4232331d",
   "metadata": {},
   "outputs": [
    {
     "data": {
      "text/plain": [
       "STATION               0\n",
       "NAME                  0\n",
       "LATITUDE              0\n",
       "LONGITUDE             0\n",
       "ELEVATION             0\n",
       "DATE                  0\n",
       "PRCP               8571\n",
       "PRCP_ATTRIBUTES    8571\n",
       "TAVG                  0\n",
       "TAVG_ATTRIBUTES       0\n",
       "TMAX                816\n",
       "TMAX_ATTRIBUTES     816\n",
       "TMIN                934\n",
       "TMIN_ATTRIBUTES     934\n",
       "dtype: int64"
      ]
     },
     "execution_count": 181,
     "metadata": {},
     "output_type": "execute_result"
    }
   ],
   "source": [
    "df.isnull().sum()"
   ]
  },
  {
   "cell_type": "code",
   "execution_count": 182,
   "id": "be2bea9f",
   "metadata": {},
   "outputs": [
    {
     "name": "stderr",
     "output_type": "stream",
     "text": [
      "/var/folders/bn/18y7j2cx1qd4n6j561__wtsw0000gq/T/ipykernel_2987/3539733419.py:1: FutureWarning: Dropping of nuisance columns in DataFrame reductions (with 'numeric_only=None') is deprecated; in a future version this will raise TypeError.  Select only valid columns before calling the reduction.\n",
      "  df_cleaned = df.fillna(df.mean())\n"
     ]
    }
   ],
   "source": [
    "df_cleaned = df.fillna(df.mean())"
   ]
  },
  {
   "cell_type": "code",
   "execution_count": 183,
   "id": "6db750e2",
   "metadata": {},
   "outputs": [
    {
     "data": {
      "text/plain": [
       "STATION               0\n",
       "NAME                  0\n",
       "LATITUDE              0\n",
       "LONGITUDE             0\n",
       "ELEVATION             0\n",
       "DATE                  0\n",
       "PRCP                  0\n",
       "PRCP_ATTRIBUTES    8571\n",
       "TAVG                  0\n",
       "TAVG_ATTRIBUTES       0\n",
       "TMAX                  0\n",
       "TMAX_ATTRIBUTES     816\n",
       "TMIN                  0\n",
       "TMIN_ATTRIBUTES     934\n",
       "dtype: int64"
      ]
     },
     "execution_count": 183,
     "metadata": {},
     "output_type": "execute_result"
    }
   ],
   "source": [
    "df_cleaned.isnull().sum()"
   ]
  },
  {
   "cell_type": "code",
   "execution_count": 184,
   "id": "9fddea3d",
   "metadata": {},
   "outputs": [
    {
     "data": {
      "image/png": "[encoded data removed]",
      "text/plain": [
       "<Figure size 640x480 with 2 Axes>"
      ]
     },
     "metadata": {},
     "output_type": "display_data"
    }
   ],
   "source": [
    "corr_matrix = df.corr()\n",
    "\n",
    "# create a heatmap using the correlation matrix\n",
    "sns.heatmap(corr_matrix, annot=True, cmap='coolwarm')\n",
    "\n",
    "# show the plot\n",
    "plt.show()\n"
   ]
  },
  {
   "cell_type": "code",
   "execution_count": 190,
   "id": "9a1047d8",
   "metadata": {},
   "outputs": [
    {
     "data": {
      "text/html": [
       "<div>\n",
       "<style scoped>\n",
       "    .dataframe tbody tr th:only-of-type {\n",
       "        vertical-align: middle;\n",
       "    }\n",
       "\n",
       "    .dataframe tbody tr th {\n",
       "        vertical-align: top;\n",
       "    }\n",
       "\n",
       "    .dataframe thead th {\n",
       "        text-align: right;\n",
       "    }\n",
       "</style>\n",
       "<table border=\"1\" class=\"dataframe\">\n",
       "  <thead>\n",
       "    <tr style=\"text-align: right;\">\n",
       "      <th></th>\n",
       "      <th>STATION</th>\n",
       "      <th>NAME</th>\n",
       "      <th>LATITUDE</th>\n",
       "      <th>DATE</th>\n",
       "      <th>TAVG</th>\n",
       "      <th>TMAX</th>\n",
       "      <th>TMIN</th>\n",
       "    </tr>\n",
       "  </thead>\n",
       "  <tbody>\n",
       "    <tr>\n",
       "      <th>0</th>\n",
       "      <td>SF001447910</td>\n",
       "      <td>NOUPOORT, SF</td>\n",
       "      <td>-31.183</td>\n",
       "      <td>2022-07-01</td>\n",
       "      <td>8.8</td>\n",
       "      <td>16.0</td>\n",
       "      <td>-1.7</td>\n",
       "    </tr>\n",
       "    <tr>\n",
       "      <th>1</th>\n",
       "      <td>SF001447910</td>\n",
       "      <td>NOUPOORT, SF</td>\n",
       "      <td>-31.183</td>\n",
       "      <td>2022-07-02</td>\n",
       "      <td>11.1</td>\n",
       "      <td>17.4</td>\n",
       "      <td>3.5</td>\n",
       "    </tr>\n",
       "    <tr>\n",
       "      <th>2</th>\n",
       "      <td>SF001447910</td>\n",
       "      <td>NOUPOORT, SF</td>\n",
       "      <td>-31.183</td>\n",
       "      <td>2022-07-03</td>\n",
       "      <td>11.6</td>\n",
       "      <td>18.3</td>\n",
       "      <td>6.8</td>\n",
       "    </tr>\n",
       "    <tr>\n",
       "      <th>3</th>\n",
       "      <td>SF001447910</td>\n",
       "      <td>NOUPOORT, SF</td>\n",
       "      <td>-31.183</td>\n",
       "      <td>2022-07-04</td>\n",
       "      <td>9.3</td>\n",
       "      <td>19.0</td>\n",
       "      <td>0.8</td>\n",
       "    </tr>\n",
       "    <tr>\n",
       "      <th>4</th>\n",
       "      <td>SF001447910</td>\n",
       "      <td>NOUPOORT, SF</td>\n",
       "      <td>-31.183</td>\n",
       "      <td>2022-07-05</td>\n",
       "      <td>10.4</td>\n",
       "      <td>19.0</td>\n",
       "      <td>7.3</td>\n",
       "    </tr>\n",
       "  </tbody>\n",
       "</table>\n",
       "</div>"
      ],
      "text/plain": [
       "       STATION          NAME  LATITUDE        DATE  TAVG  TMAX  TMIN\n",
       "0  SF001447910  NOUPOORT, SF   -31.183  2022-07-01   8.8  16.0  -1.7\n",
       "1  SF001447910  NOUPOORT, SF   -31.183  2022-07-02  11.1  17.4   3.5\n",
       "2  SF001447910  NOUPOORT, SF   -31.183  2022-07-03  11.6  18.3   6.8\n",
       "3  SF001447910  NOUPOORT, SF   -31.183  2022-07-04   9.3  19.0   0.8\n",
       "4  SF001447910  NOUPOORT, SF   -31.183  2022-07-05  10.4  19.0   7.3"
      ]
     },
     "execution_count": 190,
     "metadata": {},
     "output_type": "execute_result"
    }
   ],
   "source": [
    "df_cleaned=df.drop(['LONGITUDE', 'ELEVATION','PRCP','PRCP_ATTRIBUTES','TMIN_ATTRIBUTES','TAVG_ATTRIBUTES','TMAX_ATTRIBUTES'],axis=1)\n",
    "df_cleaned.head()"
   ]
  },
  {
   "cell_type": "code",
   "execution_count": 191,
   "id": "8f1fa899",
   "metadata": {},
   "outputs": [
    {
     "name": "stdout",
     "output_type": "stream",
     "text": [
      "The kurtosis of column LATITUDE is 6.95\n",
      "The kurtosis of column TAVG is -0.22\n",
      "The kurtosis of column TMAX is nan\n",
      "The kurtosis of column TMIN is nan\n"
     ]
    }
   ],
   "source": [
    "from scipy.stats import kurtosis\n",
    "\n",
    "# Get the list of numerical columns\n",
    "num_cols = df_cleaned.select_dtypes(include='number').columns\n",
    "\n",
    "# Compute the kurtosis for each numerical column\n",
    "for col in num_cols:\n",
    "    col_kurtosis = kurtosis(df_cleaned[col])\n",
    "    print(f'The kurtosis of column {col} is {col_kurtosis:.2f}')\n"
   ]
  },
  {
   "cell_type": "code",
   "execution_count": 187,
   "id": "d16ef831",
   "metadata": {},
   "outputs": [
    {
     "name": "stdout",
     "output_type": "stream",
     "text": [
      "Number of outliers in LATITUDE: 284\n",
      "6236   -46.883\n",
      "6237   -46.883\n",
      "6238   -46.883\n",
      "6239   -46.883\n",
      "6240   -46.883\n",
      "         ...  \n",
      "6515   -46.883\n",
      "6516   -46.883\n",
      "6517   -46.883\n",
      "6518   -46.883\n",
      "6519   -46.883\n",
      "Name: LATITUDE, Length: 284, dtype: float64\n",
      "Number of outliers in TAVG: 43\n",
      "59        2.8\n",
      "4583     34.3\n",
      "4584     34.5\n",
      "4587     34.1\n",
      "4588     34.6\n",
      "4589     34.2\n",
      "4930      2.5\n",
      "4946      2.3\n",
      "4954      1.9\n",
      "4976      2.1\n",
      "5566     33.9\n",
      "5576     35.9\n",
      "5577     35.5\n",
      "5591     34.6\n",
      "5616     34.4\n",
      "5630     35.1\n",
      "6147     34.3\n",
      "6238      1.5\n",
      "6239      1.8\n",
      "6240      0.7\n",
      "6241      0.7\n",
      "6245      2.0\n",
      "6246      1.6\n",
      "6249      3.0\n",
      "6250      1.3\n",
      "6259      2.4\n",
      "6266      2.7\n",
      "6272      2.2\n",
      "6273      2.1\n",
      "6282      2.1\n",
      "6283      0.1\n",
      "6284      1.1\n",
      "6293      2.8\n",
      "6308      1.0\n",
      "6309      0.9\n",
      "6322      2.1\n",
      "6323      2.1\n",
      "6326      1.9\n",
      "6335      2.7\n",
      "6341      2.6\n",
      "6354      2.4\n",
      "6550      0.6\n",
      "10382     1.7\n",
      "Name: TAVG, dtype: float64\n",
      "Number of outliers in TMAX: 100\n",
      "4208     7.6\n",
      "5108     7.6\n",
      "5114     9.2\n",
      "5124     7.5\n",
      "5143     7.9\n",
      "        ... \n",
      "6408     9.3\n",
      "6419     9.0\n",
      "12246    6.6\n",
      "12247    7.3\n",
      "12248    5.2\n",
      "Name: TMAX, Length: 100, dtype: float64\n",
      "Number of outliers in TMIN: 61\n",
      "1780     -4.5\n",
      "1781     -4.6\n",
      "1782     -4.6\n",
      "1785     -4.6\n",
      "1786     -4.1\n",
      "         ... \n",
      "11487    -4.1\n",
      "11492    -4.2\n",
      "11953    -5.5\n",
      "11974    -4.1\n",
      "12094    27.9\n",
      "Name: TMIN, Length: 61, dtype: float64\n"
     ]
    }
   ],
   "source": [
    "# Get the list of numerical columns\n",
    "num_cols = df_cleaned.select_dtypes(include='number').columns\n",
    "\n",
    "# Loop through each numerical column and check for outliers\n",
    "for col in num_cols:\n",
    "    # Compute the first and third quartiles of the column\n",
    "    Q1 = df_cleaned[col].quantile(0.25)\n",
    "    Q3 = df_cleaned[col].quantile(0.75)\n",
    "\n",
    "    # Compute the interquartile range (IQR) of the column\n",
    "    IQR = Q3 - Q1\n",
    "\n",
    "    # Compute the lower and upper bounds for identifying outliers\n",
    "    lower_bound = Q1 - 1.5*IQR\n",
    "    upper_bound = Q3 + 1.5*IQR\n",
    "\n",
    "    # Identify the outliers in the column\n",
    "    outliers = df[(df_cleaned[col] < lower_bound) | (df_cleaned[col] > upper_bound)]\n",
    "\n",
    "    # Print the number of outliers and their values\n",
    "    print(f'Number of outliers in {col}: {len(outliers)}')\n",
    "    print(outliers[col])\n"
   ]
  },
  {
   "cell_type": "code",
   "execution_count": 192,
   "id": "b238e86a",
   "metadata": {},
   "outputs": [],
   "source": [
    "# Get the list of numerical columns\n",
    "num_cols = df_cleaned.select_dtypes(include='number').columns\n",
    "\n",
    "# Loop through each numerical column and remove outliers using IQR method\n",
    "for col in num_cols:\n",
    "    # Compute the first and third quartiles of the column\n",
    "    Q1 = df_cleaned[col].quantile(0.25)\n",
    "    Q3 = df_cleaned[col].quantile(0.75)\n",
    "\n",
    "    # Compute the interquartile range (IQR) of the column\n",
    "    IQR = Q3 - Q1\n",
    "\n",
    "    # Compute the lower and upper bounds for identifying outliers\n",
    "    lower_bound = Q1 - 1.5*IQR\n",
    "    upper_bound = Q3 + 1.5*IQR\n",
    "\n",
    "    # Remove the outliers in the column\n",
    "    df_cleaned = df_cleaned[(df_cleaned[col] >= lower_bound) & (df_cleaned[col] <= upper_bound)]\n",
    "\n",
    "# Store the cleaned DataFrame in a new variable\n",
    "df_cleaned1 = df_cleaned.copy()\n"
   ]
  },
  {
   "cell_type": "code",
   "execution_count": 194,
   "id": "19c53feb",
   "metadata": {},
   "outputs": [
    {
     "name": "stdout",
     "output_type": "stream",
     "text": [
      "Number of outliers in LATITUDE: 0\n",
      "Series([], Name: LATITUDE, dtype: float64)\n",
      "Number of outliers in TAVG: 0\n",
      "Series([], Name: TAVG, dtype: float64)\n",
      "Number of outliers in TMAX: 1\n",
      "5135    10.7\n",
      "Name: TMAX, dtype: float64\n",
      "Number of outliers in TMIN: 29\n",
      "7       -2.5\n",
      "25      -2.4\n",
      "1775    -2.3\n",
      "1790    -2.4\n",
      "1791    -2.4\n",
      "1818    -2.6\n",
      "2590    -2.7\n",
      "3155    -2.3\n",
      "4148    -2.6\n",
      "4159    -2.5\n",
      "4178    -2.7\n",
      "4689    -2.4\n",
      "4948    -2.3\n",
      "6535    -2.7\n",
      "6536    -2.6\n",
      "7311    -2.4\n",
      "8119    -2.3\n",
      "8314    -2.3\n",
      "8600    -2.3\n",
      "9148    -2.4\n",
      "10652   -2.7\n",
      "10909   -2.3\n",
      "11171   -2.4\n",
      "11181   -2.3\n",
      "11211   -2.4\n",
      "11217   -2.6\n",
      "11221   -2.4\n",
      "11447   -2.5\n",
      "11465   -2.6\n",
      "Name: TMIN, dtype: float64\n"
     ]
    }
   ],
   "source": [
    "# Get the list of numerical columns\n",
    "num_cols = df_cleaned1.select_dtypes(include='number').columns\n",
    "\n",
    "# Loop through each numerical column and check for outliers\n",
    "for col in num_cols:\n",
    "    # Compute the first and third quartiles of the column\n",
    "    Q1 = df_cleaned1[col].quantile(0.25)\n",
    "    Q3 = df_cleaned1[col].quantile(0.75)\n",
    "\n",
    "    # Compute the interquartile range (IQR) of the column\n",
    "    IQR = Q3 - Q1\n",
    "\n",
    "    # Compute the lower and upper bounds for identifying outliers\n",
    "    lower_bound = Q1 - 1.5*IQR\n",
    "    upper_bound = Q3 + 1.5*IQR\n",
    "\n",
    "    # Identify the outliers in the column\n",
    "    outliers = df_cleaned1[(df_cleaned1[col] < lower_bound) | (df_cleaned1[col] > upper_bound)]\n",
    "\n",
    "    # Print the number of outliers and their values\n",
    "    print(f'Number of outliers in {col}: {len(outliers)}')\n",
    "    print(outliers[col])\n"
   ]
  },
  {
   "cell_type": "code",
   "execution_count": 198,
   "id": "c87bb4f0",
   "metadata": {},
   "outputs": [
    {
     "name": "stdout",
     "output_type": "stream",
     "text": [
      "The kurtosis of column LATITUDE is -1.06\n",
      "The kurtosis of column TAVG is -0.43\n",
      "The kurtosis of column TMAX is -0.36\n",
      "The kurtosis of column TMIN is -0.29\n"
     ]
    }
   ],
   "source": [
    "from scipy.stats import kurtosis\n",
    "\n",
    "# Get the list of numerical columns\n",
    "num_cols = df_cleaned1.select_dtypes(include='number').columns\n",
    "\n",
    "# Compute the kurtosis for each numerical column\n",
    "for col in num_cols:\n",
    "    col_kurtosis = kurtosis(df_cleaned1[col])\n",
    "    print(f'The kurtosis of column {col} is {col_kurtosis:.2f}')"
   ]
  },
  {
   "cell_type": "code",
   "execution_count": null,
   "id": "c35b99f0",
   "metadata": {},
   "outputs": [],
   "source": []
  }
 ],
 "metadata": {
  "kernelspec": {
   "display_name": "Python 3 (ipykernel)",
   "language": "python",
   "name": "python3"
  },
  "language_info": {
   "codemirror_mode": {
    "name": "ipython",
    "version": 3
   },
   "file_extension": ".py",
   "mimetype": "text/x-python",
   "name": "python",
   "nbconvert_exporter": "python",
   "pygments_lexer": "ipython3",
   "version": "3.9.13"
  }
 },
 "nbformat": 4,
 "nbformat_minor": 5
}
